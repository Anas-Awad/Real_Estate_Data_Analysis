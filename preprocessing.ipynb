{
 "cells": [
  {
   "cell_type": "code",
   "execution_count": 1,
   "id": "9babf7a4",
   "metadata": {},
   "outputs": [],
   "source": [
    "import pandas as pd\n",
    "import seaborn as sns\n",
    "import matplotlib.pyplot as plt\n",
    "import warnings\n",
    "import functions as fs\n",
    "import numpy as np\n",
    "import missingno as msn"
   ]
  },
  {
   "cell_type": "code",
   "execution_count": 2,
   "id": "37971b15",
   "metadata": {},
   "outputs": [],
   "source": [
    "warnings.filterwarnings('ignore')\n",
    "%matplotlib inline\n",
    "sns.set_theme(context = 'poster' , style = 'ticks' , palette = 'magma' , font_scale = 0.6 , rc = {'figure.figsize':[18 , 8]})"
   ]
  },
  {
   "cell_type": "markdown",
   "id": "0580a962",
   "metadata": {},
   "source": [
    "## Scan Dataset"
   ]
  },
  {
   "cell_type": "code",
   "execution_count": 3,
   "id": "80073386",
   "metadata": {},
   "outputs": [],
   "source": [
    "df = pd.read_csv('dataforpre.csv')"
   ]
  },
  {
   "cell_type": "code",
   "execution_count": 4,
   "id": "ad2ac48b",
   "metadata": {},
   "outputs": [
    {
     "data": {
      "text/html": [
       "<div>\n",
       "<style scoped>\n",
       "    .dataframe tbody tr th:only-of-type {\n",
       "        vertical-align: middle;\n",
       "    }\n",
       "\n",
       "    .dataframe tbody tr th {\n",
       "        vertical-align: top;\n",
       "    }\n",
       "\n",
       "    .dataframe thead th {\n",
       "        text-align: right;\n",
       "    }\n",
       "</style>\n",
       "<table border=\"1\" class=\"dataframe\">\n",
       "  <thead>\n",
       "    <tr style=\"text-align: right;\">\n",
       "      <th></th>\n",
       "      <th>price (million)</th>\n",
       "      <th>geo_lat</th>\n",
       "      <th>geo_lon</th>\n",
       "      <th>building_type</th>\n",
       "      <th>level</th>\n",
       "      <th>levels</th>\n",
       "      <th>rooms</th>\n",
       "      <th>area</th>\n",
       "      <th>kitchen_area</th>\n",
       "      <th>object_type</th>\n",
       "      <th>Datetime</th>\n",
       "      <th>City</th>\n",
       "      <th>season</th>\n",
       "      <th>year</th>\n",
       "      <th>month</th>\n",
       "      <th>price_status</th>\n",
       "    </tr>\n",
       "  </thead>\n",
       "  <tbody>\n",
       "    <tr>\n",
       "      <th>0</th>\n",
       "      <td>4.999999</td>\n",
       "      <td>59.958459</td>\n",
       "      <td>30.215529</td>\n",
       "      <td>Brick</td>\n",
       "      <td>8.0</td>\n",
       "      <td>13.0</td>\n",
       "      <td>1.0</td>\n",
       "      <td>36.0</td>\n",
       "      <td>7.2</td>\n",
       "      <td>Secondary Real Estate</td>\n",
       "      <td>2018-10-20 22:11:49</td>\n",
       "      <td>St. Petersburg</td>\n",
       "      <td>autumn</td>\n",
       "      <td>2018.0</td>\n",
       "      <td>10.0</td>\n",
       "      <td>Low</td>\n",
       "    </tr>\n",
       "    <tr>\n",
       "      <th>1</th>\n",
       "      <td>2.150000</td>\n",
       "      <td>45.072674</td>\n",
       "      <td>41.936996</td>\n",
       "      <td>Brick</td>\n",
       "      <td>5.0</td>\n",
       "      <td>5.0</td>\n",
       "      <td>1.0</td>\n",
       "      <td>52.0</td>\n",
       "      <td>15.0</td>\n",
       "      <td>Secondary Real Estate</td>\n",
       "      <td>2019-08-23 16:39:54</td>\n",
       "      <td>Stavropol</td>\n",
       "      <td>summer</td>\n",
       "      <td>2019.0</td>\n",
       "      <td>8.0</td>\n",
       "      <td>Low</td>\n",
       "    </tr>\n",
       "    <tr>\n",
       "      <th>2</th>\n",
       "      <td>8.600000</td>\n",
       "      <td>59.939359</td>\n",
       "      <td>30.437068</td>\n",
       "      <td>Monolithic</td>\n",
       "      <td>11.0</td>\n",
       "      <td>22.0</td>\n",
       "      <td>1.0</td>\n",
       "      <td>37.1</td>\n",
       "      <td>9.8</td>\n",
       "      <td>Secondary Real Estate</td>\n",
       "      <td>2021-01-21 18:39:45</td>\n",
       "      <td>St. Petersburg</td>\n",
       "      <td>winter</td>\n",
       "      <td>2021.0</td>\n",
       "      <td>1.0</td>\n",
       "      <td>Medium</td>\n",
       "    </tr>\n",
       "    <tr>\n",
       "      <th>3</th>\n",
       "      <td>5.100000</td>\n",
       "      <td>59.740478</td>\n",
       "      <td>30.569539</td>\n",
       "      <td>Panel</td>\n",
       "      <td>2.0</td>\n",
       "      <td>9.0</td>\n",
       "      <td>3.0</td>\n",
       "      <td>74.5</td>\n",
       "      <td>9.5</td>\n",
       "      <td>Secondary Real Estate</td>\n",
       "      <td>2020-07-18 17:51:46</td>\n",
       "      <td>Kolpino</td>\n",
       "      <td>summer</td>\n",
       "      <td>2020.0</td>\n",
       "      <td>7.0</td>\n",
       "      <td>Medium</td>\n",
       "    </tr>\n",
       "  </tbody>\n",
       "</table>\n",
       "</div>"
      ],
      "text/plain": [
       "   price (million)    geo_lat    geo_lon building_type  level  levels  rooms  \\\n",
       "0         4.999999  59.958459  30.215529         Brick    8.0    13.0    1.0   \n",
       "1         2.150000  45.072674  41.936996         Brick    5.0     5.0    1.0   \n",
       "2         8.600000  59.939359  30.437068    Monolithic   11.0    22.0    1.0   \n",
       "3         5.100000  59.740478  30.569539         Panel    2.0     9.0    3.0   \n",
       "\n",
       "   area  kitchen_area            object_type             Datetime  \\\n",
       "0  36.0           7.2  Secondary Real Estate  2018-10-20 22:11:49   \n",
       "1  52.0          15.0  Secondary Real Estate  2019-08-23 16:39:54   \n",
       "2  37.1           9.8  Secondary Real Estate  2021-01-21 18:39:45   \n",
       "3  74.5           9.5  Secondary Real Estate  2020-07-18 17:51:46   \n",
       "\n",
       "             City  season    year  month price_status  \n",
       "0  St. Petersburg  autumn  2018.0   10.0          Low  \n",
       "1       Stavropol  summer  2019.0    8.0          Low  \n",
       "2  St. Petersburg  winter  2021.0    1.0       Medium  \n",
       "3         Kolpino  summer  2020.0    7.0       Medium  "
      ]
     },
     "execution_count": 4,
     "metadata": {},
     "output_type": "execute_result"
    }
   ],
   "source": [
    "df.head(4)"
   ]
  },
  {
   "cell_type": "markdown",
   "id": "80d35793",
   "metadata": {},
   "source": [
    "## Drop Unnecessary Features\n",
    "* Datetime,month, season, geo_lat, geo_lon, price_status"
   ]
  },
  {
   "cell_type": "code",
   "execution_count": 5,
   "id": "1f4a3dd1",
   "metadata": {},
   "outputs": [],
   "source": [
    "df.drop(columns=['Datetime','month','season','geo_lat','geo_lon','price_status'],inplace=True)"
   ]
  },
  {
   "cell_type": "markdown",
   "id": "0dd891e2",
   "metadata": {},
   "source": [
    "## spliting the data"
   ]
  },
  {
   "cell_type": "code",
   "execution_count": 6,
   "id": "0957b995",
   "metadata": {},
   "outputs": [],
   "source": [
    "x_train, x_test, y_train, y_test = fs.train_test(df, 'price (million)')"
   ]
  },
  {
   "cell_type": "code",
   "execution_count": 7,
   "id": "4b9b8335",
   "metadata": {},
   "outputs": [],
   "source": [
    "# reseting the indexes\n",
    "x_train.reset_index(drop=True, inplace=True)\n",
    "x_test.reset_index(drop=True, inplace=True)\n",
    "y_train.reset_index(drop=True, inplace=True)\n",
    "y_test.reset_index(drop=True, inplace=True)"
   ]
  },
  {
   "cell_type": "code",
   "execution_count": 8,
   "id": "bc971cae",
   "metadata": {},
   "outputs": [
    {
     "data": {
      "text/html": [
       "<div>\n",
       "<style scoped>\n",
       "    .dataframe tbody tr th:only-of-type {\n",
       "        vertical-align: middle;\n",
       "    }\n",
       "\n",
       "    .dataframe tbody tr th {\n",
       "        vertical-align: top;\n",
       "    }\n",
       "\n",
       "    .dataframe thead th {\n",
       "        text-align: right;\n",
       "    }\n",
       "</style>\n",
       "<table border=\"1\" class=\"dataframe\">\n",
       "  <thead>\n",
       "    <tr style=\"text-align: right;\">\n",
       "      <th></th>\n",
       "      <th>building_type</th>\n",
       "      <th>level</th>\n",
       "      <th>levels</th>\n",
       "      <th>rooms</th>\n",
       "      <th>area</th>\n",
       "      <th>kitchen_area</th>\n",
       "      <th>object_type</th>\n",
       "      <th>City</th>\n",
       "      <th>year</th>\n",
       "    </tr>\n",
       "  </thead>\n",
       "  <tbody>\n",
       "    <tr>\n",
       "      <th>0</th>\n",
       "      <td>Brick</td>\n",
       "      <td>7.0</td>\n",
       "      <td>9.0</td>\n",
       "      <td>2.0</td>\n",
       "      <td>64.0</td>\n",
       "      <td>9.0</td>\n",
       "      <td>NaN</td>\n",
       "      <td>St. Petersburg</td>\n",
       "      <td>2019.0</td>\n",
       "    </tr>\n",
       "    <tr>\n",
       "      <th>1</th>\n",
       "      <td>Monolithic</td>\n",
       "      <td>3.0</td>\n",
       "      <td>19.0</td>\n",
       "      <td>1.0</td>\n",
       "      <td>39.6</td>\n",
       "      <td>12.6</td>\n",
       "      <td>Secondary Real Estate</td>\n",
       "      <td>Novorossiysk</td>\n",
       "      <td>2020.0</td>\n",
       "    </tr>\n",
       "    <tr>\n",
       "      <th>2</th>\n",
       "      <td>Brick</td>\n",
       "      <td>8.0</td>\n",
       "      <td>9.0</td>\n",
       "      <td>2.0</td>\n",
       "      <td>61.0</td>\n",
       "      <td>16.6</td>\n",
       "      <td>New Building</td>\n",
       "      <td>city district of Novosibirsk</td>\n",
       "      <td>2019.0</td>\n",
       "    </tr>\n",
       "  </tbody>\n",
       "</table>\n",
       "</div>"
      ],
      "text/plain": [
       "  building_type  level  levels  rooms  area  kitchen_area  \\\n",
       "0         Brick    7.0     9.0    2.0  64.0           9.0   \n",
       "1    Monolithic    3.0    19.0    1.0  39.6          12.6   \n",
       "2         Brick    8.0     9.0    2.0  61.0          16.6   \n",
       "\n",
       "             object_type                          City    year  \n",
       "0                    NaN                St. Petersburg  2019.0  \n",
       "1  Secondary Real Estate                  Novorossiysk  2020.0  \n",
       "2           New Building  city district of Novosibirsk  2019.0  "
      ]
     },
     "execution_count": 8,
     "metadata": {},
     "output_type": "execute_result"
    }
   ],
   "source": [
    "x_train.head(3)"
   ]
  },
  {
   "cell_type": "code",
   "execution_count": 9,
   "id": "3ec6656d",
   "metadata": {},
   "outputs": [
    {
     "data": {
      "text/html": [
       "<div>\n",
       "<style scoped>\n",
       "    .dataframe tbody tr th:only-of-type {\n",
       "        vertical-align: middle;\n",
       "    }\n",
       "\n",
       "    .dataframe tbody tr th {\n",
       "        vertical-align: top;\n",
       "    }\n",
       "\n",
       "    .dataframe thead th {\n",
       "        text-align: right;\n",
       "    }\n",
       "</style>\n",
       "<table border=\"1\" class=\"dataframe\">\n",
       "  <thead>\n",
       "    <tr style=\"text-align: right;\">\n",
       "      <th></th>\n",
       "      <th>building_type</th>\n",
       "      <th>level</th>\n",
       "      <th>levels</th>\n",
       "      <th>rooms</th>\n",
       "      <th>area</th>\n",
       "      <th>kitchen_area</th>\n",
       "      <th>object_type</th>\n",
       "      <th>City</th>\n",
       "      <th>year</th>\n",
       "    </tr>\n",
       "  </thead>\n",
       "  <tbody>\n",
       "    <tr>\n",
       "      <th>0</th>\n",
       "      <td>Monolithic</td>\n",
       "      <td>7.0</td>\n",
       "      <td>28.0</td>\n",
       "      <td>2.0</td>\n",
       "      <td>57.30</td>\n",
       "      <td>12.70</td>\n",
       "      <td>New Building</td>\n",
       "      <td>St. Petersburg</td>\n",
       "      <td>2020.0</td>\n",
       "    </tr>\n",
       "    <tr>\n",
       "      <th>1</th>\n",
       "      <td>Panel</td>\n",
       "      <td>2.0</td>\n",
       "      <td>17.0</td>\n",
       "      <td>1.0</td>\n",
       "      <td>48.39</td>\n",
       "      <td>11.95</td>\n",
       "      <td>Secondary Real Estate</td>\n",
       "      <td>city district of Samara</td>\n",
       "      <td>2020.0</td>\n",
       "    </tr>\n",
       "  </tbody>\n",
       "</table>\n",
       "</div>"
      ],
      "text/plain": [
       "  building_type  level  levels  rooms   area  kitchen_area  \\\n",
       "0    Monolithic    7.0    28.0    2.0  57.30         12.70   \n",
       "1         Panel    2.0    17.0    1.0  48.39         11.95   \n",
       "\n",
       "             object_type                     City    year  \n",
       "0           New Building           St. Petersburg  2020.0  \n",
       "1  Secondary Real Estate  city district of Samara  2020.0  "
      ]
     },
     "execution_count": 9,
     "metadata": {},
     "output_type": "execute_result"
    }
   ],
   "source": [
    "x_test.head(2)"
   ]
  },
  {
   "cell_type": "code",
   "execution_count": 10,
   "id": "93785bc4",
   "metadata": {},
   "outputs": [
    {
     "data": {
      "text/plain": [
       "(38975, 9)"
      ]
     },
     "execution_count": 10,
     "metadata": {},
     "output_type": "execute_result"
    }
   ],
   "source": [
    "x_train.shape"
   ]
  },
  {
   "cell_type": "code",
   "execution_count": 11,
   "id": "355a2a7d",
   "metadata": {},
   "outputs": [
    {
     "data": {
      "text/plain": [
       "0    6.80\n",
       "1    2.95\n",
       "Name: price (million), dtype: float64"
      ]
     },
     "execution_count": 11,
     "metadata": {},
     "output_type": "execute_result"
    }
   ],
   "source": [
    "y_train.head(2)"
   ]
  },
  {
   "cell_type": "code",
   "execution_count": 12,
   "id": "838ebaec",
   "metadata": {},
   "outputs": [
    {
     "data": {
      "text/plain": [
       "0    9.150810\n",
       "1    2.379495\n",
       "Name: price (million), dtype: float64"
      ]
     },
     "execution_count": 12,
     "metadata": {},
     "output_type": "execute_result"
    }
   ],
   "source": [
    "y_test.head(2)"
   ]
  },
  {
   "cell_type": "markdown",
   "id": "14e45fb9",
   "metadata": {},
   "source": [
    "## dealing with missing values"
   ]
  },
  {
   "cell_type": "code",
   "execution_count": 13,
   "id": "447419c0",
   "metadata": {},
   "outputs": [
    {
     "data": {
      "text/plain": [
       "<AxesSubplot:>"
      ]
     },
     "execution_count": 13,
     "metadata": {},
     "output_type": "execute_result"
    },
    {
     "data": {
      "image/png": "[encoded data removed]",
      "text/plain": [
       "<Figure size 1728x720 with 3 Axes>"
      ]
     },
     "metadata": {},
     "output_type": "display_data"
    }
   ],
   "source": [
    "# Returns no of non null values\n",
    "msn.bar(x_train,color='orange')"
   ]
  },
  {
   "cell_type": "code",
   "execution_count": 14,
   "id": "b13f37a8",
   "metadata": {},
   "outputs": [
    {
     "data": {
      "text/html": [
       "<div>\n",
       "<style scoped>\n",
       "    .dataframe tbody tr th:only-of-type {\n",
       "        vertical-align: middle;\n",
       "    }\n",
       "\n",
       "    .dataframe tbody tr th {\n",
       "        vertical-align: top;\n",
       "    }\n",
       "\n",
       "    .dataframe thead th {\n",
       "        text-align: right;\n",
       "    }\n",
       "</style>\n",
       "<table border=\"1\" class=\"dataframe\">\n",
       "  <thead>\n",
       "    <tr style=\"text-align: right;\">\n",
       "      <th></th>\n",
       "      <th>building_type</th>\n",
       "      <th>level</th>\n",
       "      <th>levels</th>\n",
       "      <th>rooms</th>\n",
       "      <th>area</th>\n",
       "      <th>kitchen_area</th>\n",
       "      <th>object_type</th>\n",
       "      <th>City</th>\n",
       "      <th>year</th>\n",
       "    </tr>\n",
       "  </thead>\n",
       "  <tbody>\n",
       "    <tr>\n",
       "      <th>no of missing</th>\n",
       "      <td>0.436</td>\n",
       "      <td>0.395</td>\n",
       "      <td>0.482</td>\n",
       "      <td>0.698</td>\n",
       "      <td>1.114</td>\n",
       "      <td>1.763</td>\n",
       "      <td>1.26</td>\n",
       "      <td>19.156</td>\n",
       "      <td>1.819</td>\n",
       "    </tr>\n",
       "  </tbody>\n",
       "</table>\n",
       "</div>"
      ],
      "text/plain": [
       "               building_type  level  levels  rooms   area  kitchen_area  \\\n",
       "no of missing          0.436  0.395   0.482  0.698  1.114         1.763   \n",
       "\n",
       "               object_type    City   year  \n",
       "no of missing         1.26  19.156  1.819  "
      ]
     },
     "execution_count": 14,
     "metadata": {},
     "output_type": "execute_result"
    }
   ],
   "source": [
    "round(x_train.isnull().mean() * 100,3).to_frame('no of missing').T"
   ]
  },
  {
   "cell_type": "markdown",
   "id": "08825049",
   "metadata": {},
   "source": [
    "#### so:\n",
    "* 'building_type',' level', 'levels', 'rooms', 'area', 'kitchen_area', 'object_type', 'year' ---> have percentage less than 2% (drop Nans)|\n",
    "* 'City' Has 19.156% so am gonna impute it "
   ]
  },
  {
   "cell_type": "code",
   "execution_count": 15,
   "id": "bc414e8c",
   "metadata": {},
   "outputs": [],
   "source": [
    "#first we have to join y_train with x_train just to drop the same rows\n",
    "x_train['price'] = y_train"
   ]
  },
  {
   "cell_type": "code",
   "execution_count": 16,
   "id": "88ff5f9a",
   "metadata": {},
   "outputs": [],
   "source": [
    "x_train.dropna(subset=['building_type','level','levels','rooms','area','kitchen_area','object_type','year']\n",
    "               ,axis =0,inplace=True)"
   ]
  },
  {
   "cell_type": "code",
   "execution_count": 17,
   "id": "1c52981d",
   "metadata": {},
   "outputs": [
    {
     "data": {
      "text/plain": [
       "(35957, 10)"
      ]
     },
     "execution_count": 17,
     "metadata": {},
     "output_type": "execute_result"
    }
   ],
   "source": [
    "x_train.shape"
   ]
  },
  {
   "cell_type": "markdown",
   "id": "394b6d71",
   "metadata": {},
   "source": [
    "##### impute City Column"
   ]
  },
  {
   "cell_type": "code",
   "execution_count": 18,
   "id": "3c99fd2f",
   "metadata": {},
   "outputs": [],
   "source": [
    "fs.simpImputer(x_train, 'City', 2)"
   ]
  },
  {
   "cell_type": "code",
   "execution_count": 19,
   "id": "b2d3ef06",
   "metadata": {},
   "outputs": [
    {
     "data": {
      "text/html": [
       "<div>\n",
       "<style scoped>\n",
       "    .dataframe tbody tr th:only-of-type {\n",
       "        vertical-align: middle;\n",
       "    }\n",
       "\n",
       "    .dataframe tbody tr th {\n",
       "        vertical-align: top;\n",
       "    }\n",
       "\n",
       "    .dataframe thead th {\n",
       "        text-align: right;\n",
       "    }\n",
       "</style>\n",
       "<table border=\"1\" class=\"dataframe\">\n",
       "  <thead>\n",
       "    <tr style=\"text-align: right;\">\n",
       "      <th></th>\n",
       "      <th>building_type</th>\n",
       "      <th>level</th>\n",
       "      <th>levels</th>\n",
       "      <th>rooms</th>\n",
       "      <th>area</th>\n",
       "      <th>kitchen_area</th>\n",
       "      <th>object_type</th>\n",
       "      <th>City</th>\n",
       "      <th>year</th>\n",
       "      <th>price</th>\n",
       "    </tr>\n",
       "  </thead>\n",
       "  <tbody>\n",
       "    <tr>\n",
       "      <th>no of missing</th>\n",
       "      <td>0.0</td>\n",
       "      <td>0.0</td>\n",
       "      <td>0.0</td>\n",
       "      <td>0.0</td>\n",
       "      <td>0.0</td>\n",
       "      <td>0.0</td>\n",
       "      <td>0.0</td>\n",
       "      <td>0.0</td>\n",
       "      <td>0.0</td>\n",
       "      <td>0.0</td>\n",
       "    </tr>\n",
       "  </tbody>\n",
       "</table>\n",
       "</div>"
      ],
      "text/plain": [
       "               building_type  level  levels  rooms  area  kitchen_area  \\\n",
       "no of missing            0.0    0.0     0.0    0.0   0.0           0.0   \n",
       "\n",
       "               object_type  City  year  price  \n",
       "no of missing          0.0   0.0   0.0    0.0  "
      ]
     },
     "execution_count": 19,
     "metadata": {},
     "output_type": "execute_result"
    }
   ],
   "source": [
    "# no Nans\n",
    "round(x_train.isnull().mean() * 100,3).to_frame('no of missing').T"
   ]
  },
  {
   "cell_type": "code",
   "execution_count": 20,
   "id": "73b4a54c",
   "metadata": {},
   "outputs": [],
   "source": [
    "# reindex\n",
    "x_train.reset_index(drop=True,inplace=True)"
   ]
  },
  {
   "cell_type": "code",
   "execution_count": 21,
   "id": "da403a0f",
   "metadata": {},
   "outputs": [
    {
     "data": {
      "text/html": [
       "<div>\n",
       "<style scoped>\n",
       "    .dataframe tbody tr th:only-of-type {\n",
       "        vertical-align: middle;\n",
       "    }\n",
       "\n",
       "    .dataframe tbody tr th {\n",
       "        vertical-align: top;\n",
       "    }\n",
       "\n",
       "    .dataframe thead th {\n",
       "        text-align: right;\n",
       "    }\n",
       "</style>\n",
       "<table border=\"1\" class=\"dataframe\">\n",
       "  <thead>\n",
       "    <tr style=\"text-align: right;\">\n",
       "      <th></th>\n",
       "      <th>building_type</th>\n",
       "      <th>level</th>\n",
       "      <th>levels</th>\n",
       "      <th>rooms</th>\n",
       "      <th>area</th>\n",
       "      <th>kitchen_area</th>\n",
       "      <th>object_type</th>\n",
       "      <th>City</th>\n",
       "      <th>year</th>\n",
       "    </tr>\n",
       "  </thead>\n",
       "  <tbody>\n",
       "    <tr>\n",
       "      <th>0</th>\n",
       "      <td>Monolithic</td>\n",
       "      <td>7.0</td>\n",
       "      <td>28.0</td>\n",
       "      <td>2.0</td>\n",
       "      <td>57.30</td>\n",
       "      <td>12.70</td>\n",
       "      <td>New Building</td>\n",
       "      <td>St. Petersburg</td>\n",
       "      <td>2020.0</td>\n",
       "    </tr>\n",
       "    <tr>\n",
       "      <th>1</th>\n",
       "      <td>Panel</td>\n",
       "      <td>2.0</td>\n",
       "      <td>17.0</td>\n",
       "      <td>1.0</td>\n",
       "      <td>48.39</td>\n",
       "      <td>11.95</td>\n",
       "      <td>Secondary Real Estate</td>\n",
       "      <td>city district of Samara</td>\n",
       "      <td>2020.0</td>\n",
       "    </tr>\n",
       "    <tr>\n",
       "      <th>2</th>\n",
       "      <td>Brick</td>\n",
       "      <td>1.0</td>\n",
       "      <td>16.0</td>\n",
       "      <td>3.0</td>\n",
       "      <td>72.20</td>\n",
       "      <td>11.00</td>\n",
       "      <td>New Building</td>\n",
       "      <td>city district of Novosibirsk</td>\n",
       "      <td>2019.0</td>\n",
       "    </tr>\n",
       "  </tbody>\n",
       "</table>\n",
       "</div>"
      ],
      "text/plain": [
       "  building_type  level  levels  rooms   area  kitchen_area  \\\n",
       "0    Monolithic    7.0    28.0    2.0  57.30         12.70   \n",
       "1         Panel    2.0    17.0    1.0  48.39         11.95   \n",
       "2         Brick    1.0    16.0    3.0  72.20         11.00   \n",
       "\n",
       "             object_type                          City    year  \n",
       "0           New Building                St. Petersburg  2020.0  \n",
       "1  Secondary Real Estate       city district of Samara  2020.0  \n",
       "2           New Building  city district of Novosibirsk  2019.0  "
      ]
     },
     "execution_count": 21,
     "metadata": {},
     "output_type": "execute_result"
    }
   ],
   "source": [
    "x_test.head(3)"
   ]
  },
  {
   "cell_type": "markdown",
   "id": "a4ca40db",
   "metadata": {},
   "source": [
    "### same steps for x_test"
   ]
  },
  {
   "cell_type": "code",
   "execution_count": 22,
   "id": "85a650a4",
   "metadata": {},
   "outputs": [
    {
     "data": {
      "text/plain": [
       "<AxesSubplot:>"
      ]
     },
     "execution_count": 22,
     "metadata": {},
     "output_type": "execute_result"
    },
    {
     "data": {
      "image/png": "[encoded data removed]",
      "text/plain": [
       "<Figure size 1728x720 with 3 Axes>"
      ]
     },
     "metadata": {},
     "output_type": "display_data"
    }
   ],
   "source": [
    "# Returns no of non null values\n",
    "msn.bar(x_test,color='cyan')"
   ]
  },
  {
   "cell_type": "code",
   "execution_count": 23,
   "id": "451feccc",
   "metadata": {},
   "outputs": [
    {
     "data": {
      "text/html": [
       "<div>\n",
       "<style scoped>\n",
       "    .dataframe tbody tr th:only-of-type {\n",
       "        vertical-align: middle;\n",
       "    }\n",
       "\n",
       "    .dataframe tbody tr th {\n",
       "        vertical-align: top;\n",
       "    }\n",
       "\n",
       "    .dataframe thead th {\n",
       "        text-align: right;\n",
       "    }\n",
       "</style>\n",
       "<table border=\"1\" class=\"dataframe\">\n",
       "  <thead>\n",
       "    <tr style=\"text-align: right;\">\n",
       "      <th></th>\n",
       "      <th>building_type</th>\n",
       "      <th>level</th>\n",
       "      <th>levels</th>\n",
       "      <th>rooms</th>\n",
       "      <th>area</th>\n",
       "      <th>kitchen_area</th>\n",
       "      <th>object_type</th>\n",
       "      <th>City</th>\n",
       "      <th>year</th>\n",
       "    </tr>\n",
       "  </thead>\n",
       "  <tbody>\n",
       "    <tr>\n",
       "      <th>no of missing</th>\n",
       "      <td>0.452</td>\n",
       "      <td>0.431</td>\n",
       "      <td>0.349</td>\n",
       "      <td>0.77</td>\n",
       "      <td>1.129</td>\n",
       "      <td>1.611</td>\n",
       "      <td>1.16</td>\n",
       "      <td>19.54</td>\n",
       "      <td>1.693</td>\n",
       "    </tr>\n",
       "  </tbody>\n",
       "</table>\n",
       "</div>"
      ],
      "text/plain": [
       "               building_type  level  levels  rooms   area  kitchen_area  \\\n",
       "no of missing          0.452  0.431   0.349   0.77  1.129         1.611   \n",
       "\n",
       "               object_type   City   year  \n",
       "no of missing         1.16  19.54  1.693  "
      ]
     },
     "execution_count": 23,
     "metadata": {},
     "output_type": "execute_result"
    }
   ],
   "source": [
    "round(x_test.isnull().mean() * 100,3).to_frame('no of missing').T"
   ]
  },
  {
   "cell_type": "markdown",
   "id": "5e8e46f2",
   "metadata": {},
   "source": [
    "#### so:\n",
    "* 'building_type',' level', 'levels', 'rooms', 'area', 'kitchen_area', 'object_type', 'year' ---> have percentage less than 2% (drop Nans)\n",
    "* 'City' Has 19.54% so am gonna impute it "
   ]
  },
  {
   "cell_type": "code",
   "execution_count": 24,
   "id": "e276818c",
   "metadata": {},
   "outputs": [],
   "source": [
    "#first we have to join y_test with x_test just to drop the same rows\n",
    "x_test['price'] = y_test"
   ]
  },
  {
   "cell_type": "code",
   "execution_count": 25,
   "id": "86443deb",
   "metadata": {},
   "outputs": [],
   "source": [
    "x_test.dropna(subset=['building_type','level','levels','rooms','area','kitchen_area','object_type','year'],\n",
    "               axis =0,inplace=True)"
   ]
  },
  {
   "cell_type": "code",
   "execution_count": 26,
   "id": "dbf7c505",
   "metadata": {},
   "outputs": [
    {
     "data": {
      "text/plain": [
       "(9032, 10)"
      ]
     },
     "execution_count": 26,
     "metadata": {},
     "output_type": "execute_result"
    }
   ],
   "source": [
    "x_test.shape"
   ]
  },
  {
   "cell_type": "markdown",
   "id": "dd71c477",
   "metadata": {},
   "source": [
    "##### impute City Column"
   ]
  },
  {
   "cell_type": "code",
   "execution_count": 27,
   "id": "b9bf426c",
   "metadata": {},
   "outputs": [],
   "source": [
    "fs.simpImputer(x_test, 'City', 2)"
   ]
  },
  {
   "cell_type": "code",
   "execution_count": 28,
   "id": "0cfa0ed3",
   "metadata": {},
   "outputs": [
    {
     "data": {
      "text/html": [
       "<div>\n",
       "<style scoped>\n",
       "    .dataframe tbody tr th:only-of-type {\n",
       "        vertical-align: middle;\n",
       "    }\n",
       "\n",
       "    .dataframe tbody tr th {\n",
       "        vertical-align: top;\n",
       "    }\n",
       "\n",
       "    .dataframe thead th {\n",
       "        text-align: right;\n",
       "    }\n",
       "</style>\n",
       "<table border=\"1\" class=\"dataframe\">\n",
       "  <thead>\n",
       "    <tr style=\"text-align: right;\">\n",
       "      <th></th>\n",
       "      <th>building_type</th>\n",
       "      <th>level</th>\n",
       "      <th>levels</th>\n",
       "      <th>rooms</th>\n",
       "      <th>area</th>\n",
       "      <th>kitchen_area</th>\n",
       "      <th>object_type</th>\n",
       "      <th>City</th>\n",
       "      <th>year</th>\n",
       "      <th>price</th>\n",
       "    </tr>\n",
       "  </thead>\n",
       "  <tbody>\n",
       "    <tr>\n",
       "      <th>no of missing</th>\n",
       "      <td>0.0</td>\n",
       "      <td>0.0</td>\n",
       "      <td>0.0</td>\n",
       "      <td>0.0</td>\n",
       "      <td>0.0</td>\n",
       "      <td>0.0</td>\n",
       "      <td>0.0</td>\n",
       "      <td>0.0</td>\n",
       "      <td>0.0</td>\n",
       "      <td>0.0</td>\n",
       "    </tr>\n",
       "  </tbody>\n",
       "</table>\n",
       "</div>"
      ],
      "text/plain": [
       "               building_type  level  levels  rooms  area  kitchen_area  \\\n",
       "no of missing            0.0    0.0     0.0    0.0   0.0           0.0   \n",
       "\n",
       "               object_type  City  year  price  \n",
       "no of missing          0.0   0.0   0.0    0.0  "
      ]
     },
     "execution_count": 28,
     "metadata": {},
     "output_type": "execute_result"
    }
   ],
   "source": [
    "# no Nans\n",
    "round(x_test.isnull().mean() * 100,3).to_frame('no of missing').T"
   ]
  },
  {
   "cell_type": "code",
   "execution_count": 29,
   "id": "e4e8294b",
   "metadata": {},
   "outputs": [
    {
     "data": {
      "text/plain": [
       "(9032, 10)"
      ]
     },
     "execution_count": 29,
     "metadata": {},
     "output_type": "execute_result"
    }
   ],
   "source": [
    "x_test.shape"
   ]
  },
  {
   "cell_type": "code",
   "execution_count": 30,
   "id": "bd10ca1c",
   "metadata": {},
   "outputs": [],
   "source": [
    "# reindex x_test\n",
    "x_test.reset_index(drop=True,inplace=True)"
   ]
  },
  {
   "cell_type": "code",
   "execution_count": 31,
   "id": "06166418",
   "metadata": {
    "scrolled": true
   },
   "outputs": [
    {
     "data": {
      "text/html": [
       "<div>\n",
       "<style scoped>\n",
       "    .dataframe tbody tr th:only-of-type {\n",
       "        vertical-align: middle;\n",
       "    }\n",
       "\n",
       "    .dataframe tbody tr th {\n",
       "        vertical-align: top;\n",
       "    }\n",
       "\n",
       "    .dataframe thead th {\n",
       "        text-align: right;\n",
       "    }\n",
       "</style>\n",
       "<table border=\"1\" class=\"dataframe\">\n",
       "  <thead>\n",
       "    <tr style=\"text-align: right;\">\n",
       "      <th></th>\n",
       "      <th>building_type</th>\n",
       "      <th>level</th>\n",
       "      <th>levels</th>\n",
       "      <th>rooms</th>\n",
       "      <th>area</th>\n",
       "      <th>kitchen_area</th>\n",
       "      <th>object_type</th>\n",
       "      <th>City</th>\n",
       "      <th>year</th>\n",
       "      <th>price</th>\n",
       "    </tr>\n",
       "  </thead>\n",
       "  <tbody>\n",
       "    <tr>\n",
       "      <th>0</th>\n",
       "      <td>Monolithic</td>\n",
       "      <td>7.0</td>\n",
       "      <td>28.0</td>\n",
       "      <td>2.0</td>\n",
       "      <td>57.30</td>\n",
       "      <td>12.70</td>\n",
       "      <td>New Building</td>\n",
       "      <td>St. Petersburg</td>\n",
       "      <td>2020.0</td>\n",
       "      <td>9.150810</td>\n",
       "    </tr>\n",
       "    <tr>\n",
       "      <th>1</th>\n",
       "      <td>Panel</td>\n",
       "      <td>2.0</td>\n",
       "      <td>17.0</td>\n",
       "      <td>1.0</td>\n",
       "      <td>48.39</td>\n",
       "      <td>11.95</td>\n",
       "      <td>Secondary Real Estate</td>\n",
       "      <td>city district of Samara</td>\n",
       "      <td>2020.0</td>\n",
       "      <td>2.379495</td>\n",
       "    </tr>\n",
       "    <tr>\n",
       "      <th>2</th>\n",
       "      <td>Brick</td>\n",
       "      <td>1.0</td>\n",
       "      <td>16.0</td>\n",
       "      <td>3.0</td>\n",
       "      <td>72.20</td>\n",
       "      <td>11.00</td>\n",
       "      <td>New Building</td>\n",
       "      <td>city district of Novosibirsk</td>\n",
       "      <td>2019.0</td>\n",
       "      <td>3.202000</td>\n",
       "    </tr>\n",
       "  </tbody>\n",
       "</table>\n",
       "</div>"
      ],
      "text/plain": [
       "  building_type  level  levels  rooms   area  kitchen_area  \\\n",
       "0    Monolithic    7.0    28.0    2.0  57.30         12.70   \n",
       "1         Panel    2.0    17.0    1.0  48.39         11.95   \n",
       "2         Brick    1.0    16.0    3.0  72.20         11.00   \n",
       "\n",
       "             object_type                          City    year     price  \n",
       "0           New Building                St. Petersburg  2020.0  9.150810  \n",
       "1  Secondary Real Estate       city district of Samara  2020.0  2.379495  \n",
       "2           New Building  city district of Novosibirsk  2019.0  3.202000  "
      ]
     },
     "execution_count": 31,
     "metadata": {},
     "output_type": "execute_result"
    }
   ],
   "source": [
    "x_test.head(3)"
   ]
  },
  {
   "cell_type": "markdown",
   "id": "164c2d81",
   "metadata": {},
   "source": [
    "### Categorical Encoding"
   ]
  },
  {
   "cell_type": "code",
   "execution_count": 32,
   "id": "ed7cdc45",
   "metadata": {},
   "outputs": [],
   "source": [
    "# split data into categorical and numerical\n",
    "x_train_cate = x_train.select_dtypes(exclude='number')\n",
    "x_train_num = x_train.select_dtypes(include='number')"
   ]
  },
  {
   "cell_type": "code",
   "execution_count": 33,
   "id": "9814d9be",
   "metadata": {},
   "outputs": [
    {
     "data": {
      "text/html": [
       "<div>\n",
       "<style scoped>\n",
       "    .dataframe tbody tr th:only-of-type {\n",
       "        vertical-align: middle;\n",
       "    }\n",
       "\n",
       "    .dataframe tbody tr th {\n",
       "        vertical-align: top;\n",
       "    }\n",
       "\n",
       "    .dataframe thead th {\n",
       "        text-align: right;\n",
       "    }\n",
       "</style>\n",
       "<table border=\"1\" class=\"dataframe\">\n",
       "  <thead>\n",
       "    <tr style=\"text-align: right;\">\n",
       "      <th></th>\n",
       "      <th>building_type</th>\n",
       "      <th>object_type</th>\n",
       "      <th>City</th>\n",
       "    </tr>\n",
       "  </thead>\n",
       "  <tbody>\n",
       "    <tr>\n",
       "      <th>0</th>\n",
       "      <td>Monolithic</td>\n",
       "      <td>Secondary Real Estate</td>\n",
       "      <td>Novorossiysk</td>\n",
       "    </tr>\n",
       "    <tr>\n",
       "      <th>1</th>\n",
       "      <td>Brick</td>\n",
       "      <td>New Building</td>\n",
       "      <td>city district of Novosibirsk</td>\n",
       "    </tr>\n",
       "    <tr>\n",
       "      <th>2</th>\n",
       "      <td>Monolithic</td>\n",
       "      <td>Secondary Real Estate</td>\n",
       "      <td>Nizhny Novgorod</td>\n",
       "    </tr>\n",
       "    <tr>\n",
       "      <th>3</th>\n",
       "      <td>Brick</td>\n",
       "      <td>Secondary Real Estate</td>\n",
       "      <td>St. Petersburg</td>\n",
       "    </tr>\n",
       "  </tbody>\n",
       "</table>\n",
       "</div>"
      ],
      "text/plain": [
       "  building_type            object_type                          City\n",
       "0    Monolithic  Secondary Real Estate                  Novorossiysk\n",
       "1         Brick           New Building  city district of Novosibirsk\n",
       "2    Monolithic  Secondary Real Estate               Nizhny Novgorod\n",
       "3         Brick  Secondary Real Estate                St. Petersburg"
      ]
     },
     "execution_count": 33,
     "metadata": {},
     "output_type": "execute_result"
    }
   ],
   "source": [
    "x_train_cate.head(4)"
   ]
  },
  {
   "cell_type": "markdown",
   "id": "f5acfc47",
   "metadata": {},
   "source": [
    "* building_type --> label_encoding\n",
    "* object_type --> OnehotEncoder\n",
    "* City --> binray_encoder"
   ]
  },
  {
   "cell_type": "code",
   "execution_count": 34,
   "id": "2d5b7fad",
   "metadata": {},
   "outputs": [],
   "source": [
    "## build_le stands for building_type label encoder in case we want to inverse transform we can use it\n",
    "x_train_cate['building_type'], build_le = fs.labelE(x_train_cate, 'building_type')"
   ]
  },
  {
   "cell_type": "code",
   "execution_count": 36,
   "id": "81f19934",
   "metadata": {},
   "outputs": [],
   "source": [
    "## object_le stands for object_type encoder in case we want to inverse transform we can use it\n",
    "x_train_cate, object_E = fs.OneHotE(x_train_cate, 'object_type')"
   ]
  },
  {
   "cell_type": "code",
   "execution_count": 36,
   "id": "afef21a5",
   "metadata": {},
   "outputs": [
    {
     "data": {
      "text/html": [
       "<div>\n",
       "<style scoped>\n",
       "    .dataframe tbody tr th:only-of-type {\n",
       "        vertical-align: middle;\n",
       "    }\n",
       "\n",
       "    .dataframe tbody tr th {\n",
       "        vertical-align: top;\n",
       "    }\n",
       "\n",
       "    .dataframe thead th {\n",
       "        text-align: right;\n",
       "    }\n",
       "</style>\n",
       "<table border=\"1\" class=\"dataframe\">\n",
       "  <thead>\n",
       "    <tr style=\"text-align: right;\">\n",
       "      <th></th>\n",
       "      <th>building_type</th>\n",
       "      <th>City</th>\n",
       "      <th>object_type_Secondary Real Estate</th>\n",
       "    </tr>\n",
       "  </thead>\n",
       "  <tbody>\n",
       "    <tr>\n",
       "      <th>0</th>\n",
       "      <td>2</td>\n",
       "      <td>Novorossiysk</td>\n",
       "      <td>1.0</td>\n",
       "    </tr>\n",
       "    <tr>\n",
       "      <th>1</th>\n",
       "      <td>1</td>\n",
       "      <td>city district of Novosibirsk</td>\n",
       "      <td>0.0</td>\n",
       "    </tr>\n",
       "    <tr>\n",
       "      <th>2</th>\n",
       "      <td>2</td>\n",
       "      <td>Nizhny Novgorod</td>\n",
       "      <td>1.0</td>\n",
       "    </tr>\n",
       "  </tbody>\n",
       "</table>\n",
       "</div>"
      ],
      "text/plain": [
       "   building_type                          City  \\\n",
       "0              2                  Novorossiysk   \n",
       "1              1  city district of Novosibirsk   \n",
       "2              2               Nizhny Novgorod   \n",
       "\n",
       "   object_type_Secondary Real Estate  \n",
       "0                                1.0  \n",
       "1                                0.0  \n",
       "2                                1.0  "
      ]
     },
     "execution_count": 36,
     "metadata": {},
     "output_type": "execute_result"
    }
   ],
   "source": [
    "x_train_cate.head(3)"
   ]
  },
  {
   "cell_type": "code",
   "execution_count": 37,
   "id": "2b02bf31",
   "metadata": {},
   "outputs": [
    {
     "data": {
      "text/plain": [
       "208"
      ]
     },
     "execution_count": 37,
     "metadata": {},
     "output_type": "execute_result"
    }
   ],
   "source": [
    "s = x_train_cate.City.unique().tolist()\n",
    "len(s)"
   ]
  },
  {
   "cell_type": "markdown",
   "id": "013a05cd",
   "metadata": {},
   "source": [
    "* best Choice here is binaryEncoder or labeling but here am not gonna apply label just acoiding the wide range (208 value)"
   ]
  },
  {
   "cell_type": "code",
   "execution_count": 38,
   "id": "72d84b27",
   "metadata": {},
   "outputs": [],
   "source": [
    "x_train_cate, city_E = fs.BinaryE(x_train_cate, 'City')"
   ]
  },
  {
   "cell_type": "code",
   "execution_count": 39,
   "id": "d8443f53",
   "metadata": {},
   "outputs": [
    {
     "data": {
      "text/html": [
       "<div>\n",
       "<style scoped>\n",
       "    .dataframe tbody tr th:only-of-type {\n",
       "        vertical-align: middle;\n",
       "    }\n",
       "\n",
       "    .dataframe tbody tr th {\n",
       "        vertical-align: top;\n",
       "    }\n",
       "\n",
       "    .dataframe thead th {\n",
       "        text-align: right;\n",
       "    }\n",
       "</style>\n",
       "<table border=\"1\" class=\"dataframe\">\n",
       "  <thead>\n",
       "    <tr style=\"text-align: right;\">\n",
       "      <th></th>\n",
       "      <th>building_type</th>\n",
       "      <th>object_type_Secondary Real Estate</th>\n",
       "      <th>City_1</th>\n",
       "      <th>City_2</th>\n",
       "      <th>City_3</th>\n",
       "      <th>City_4</th>\n",
       "      <th>City_5</th>\n",
       "      <th>City_6</th>\n",
       "      <th>City_7</th>\n",
       "      <th>City_8</th>\n",
       "    </tr>\n",
       "  </thead>\n",
       "  <tbody>\n",
       "    <tr>\n",
       "      <th>0</th>\n",
       "      <td>2</td>\n",
       "      <td>1.0</td>\n",
       "      <td>0</td>\n",
       "      <td>0</td>\n",
       "      <td>0</td>\n",
       "      <td>0</td>\n",
       "      <td>0</td>\n",
       "      <td>0</td>\n",
       "      <td>0</td>\n",
       "      <td>1</td>\n",
       "    </tr>\n",
       "    <tr>\n",
       "      <th>1</th>\n",
       "      <td>1</td>\n",
       "      <td>0.0</td>\n",
       "      <td>0</td>\n",
       "      <td>0</td>\n",
       "      <td>0</td>\n",
       "      <td>0</td>\n",
       "      <td>0</td>\n",
       "      <td>0</td>\n",
       "      <td>1</td>\n",
       "      <td>0</td>\n",
       "    </tr>\n",
       "    <tr>\n",
       "      <th>2</th>\n",
       "      <td>2</td>\n",
       "      <td>1.0</td>\n",
       "      <td>0</td>\n",
       "      <td>0</td>\n",
       "      <td>0</td>\n",
       "      <td>0</td>\n",
       "      <td>0</td>\n",
       "      <td>0</td>\n",
       "      <td>1</td>\n",
       "      <td>1</td>\n",
       "    </tr>\n",
       "  </tbody>\n",
       "</table>\n",
       "</div>"
      ],
      "text/plain": [
       "   building_type  object_type_Secondary Real Estate  City_1  City_2  City_3  \\\n",
       "0              2                                1.0       0       0       0   \n",
       "1              1                                0.0       0       0       0   \n",
       "2              2                                1.0       0       0       0   \n",
       "\n",
       "   City_4  City_5  City_6  City_7  City_8  \n",
       "0       0       0       0       0       1  \n",
       "1       0       0       0       1       0  \n",
       "2       0       0       0       1       1  "
      ]
     },
     "execution_count": 39,
     "metadata": {},
     "output_type": "execute_result"
    }
   ],
   "source": [
    "x_train_cate.head(3)"
   ]
  },
  {
   "cell_type": "code",
   "execution_count": 40,
   "id": "e8281916",
   "metadata": {},
   "outputs": [],
   "source": [
    "# check the binary inverse\n"
   ]
  },
  {
   "cell_type": "markdown",
   "id": "54df5528",
   "metadata": {},
   "source": [
    "### x_train_numerical data handling"
   ]
  },
  {
   "cell_type": "code",
   "execution_count": 41,
   "id": "e1ddb77e",
   "metadata": {},
   "outputs": [
    {
     "data": {
      "text/html": [
       "<div>\n",
       "<style scoped>\n",
       "    .dataframe tbody tr th:only-of-type {\n",
       "        vertical-align: middle;\n",
       "    }\n",
       "\n",
       "    .dataframe tbody tr th {\n",
       "        vertical-align: top;\n",
       "    }\n",
       "\n",
       "    .dataframe thead th {\n",
       "        text-align: right;\n",
       "    }\n",
       "</style>\n",
       "<table border=\"1\" class=\"dataframe\">\n",
       "  <thead>\n",
       "    <tr style=\"text-align: right;\">\n",
       "      <th></th>\n",
       "      <th>level</th>\n",
       "      <th>levels</th>\n",
       "      <th>rooms</th>\n",
       "      <th>area</th>\n",
       "      <th>kitchen_area</th>\n",
       "      <th>year</th>\n",
       "      <th>price</th>\n",
       "    </tr>\n",
       "  </thead>\n",
       "  <tbody>\n",
       "    <tr>\n",
       "      <th>0</th>\n",
       "      <td>3.0</td>\n",
       "      <td>19.0</td>\n",
       "      <td>1.0</td>\n",
       "      <td>39.6</td>\n",
       "      <td>12.6</td>\n",
       "      <td>2020.0</td>\n",
       "      <td>2.95</td>\n",
       "    </tr>\n",
       "    <tr>\n",
       "      <th>1</th>\n",
       "      <td>8.0</td>\n",
       "      <td>9.0</td>\n",
       "      <td>2.0</td>\n",
       "      <td>61.0</td>\n",
       "      <td>16.6</td>\n",
       "      <td>2019.0</td>\n",
       "      <td>5.50</td>\n",
       "    </tr>\n",
       "  </tbody>\n",
       "</table>\n",
       "</div>"
      ],
      "text/plain": [
       "   level  levels  rooms  area  kitchen_area    year  price\n",
       "0    3.0    19.0    1.0  39.6          12.6  2020.0   2.95\n",
       "1    8.0     9.0    2.0  61.0          16.6  2019.0   5.50"
      ]
     },
     "execution_count": 41,
     "metadata": {},
     "output_type": "execute_result"
    }
   ],
   "source": [
    "x_train_num.head(2)"
   ]
  },
  {
   "cell_type": "code",
   "execution_count": 42,
   "id": "3d326e7d",
   "metadata": {},
   "outputs": [
    {
     "data": {
      "image/png": "[encoded data removed]",
      "text/plain": [
       "<Figure size 1296x576 with 6 Axes>"
      ]
     },
     "metadata": {},
     "output_type": "display_data"
    }
   ],
   "source": [
    "fig,axes = plt.subplots(3,2)\n",
    "sns.boxplot(data=x_train_num, x=\"level\",ax=axes[0,0])\n",
    "sns.boxplot(data=x_train_num, x=\"levels\",ax=axes[0,1])\n",
    "sns.boxplot(data=x_train_num, x=\"rooms\",ax=axes[1,0])\n",
    "sns.boxplot(data=x_train_num, x=\"area\",ax=axes[1,1])\n",
    "sns.boxplot(data=x_train_num, x=\"kitchen_area\",ax=axes[2,0])\n",
    "sns.boxplot(data=x_train_num, x=\"year\",ax=axes[2,1])\n",
    "fig.tight_layout()"
   ]
  },
  {
   "cell_type": "code",
   "execution_count": 43,
   "id": "a9d1a838",
   "metadata": {},
   "outputs": [
    {
     "name": "stdout",
     "output_type": "stream",
     "text": [
      "level 35.0 , 1.0\n",
      "levels 39.0 , 1.0\n",
      "rooms 9.0 , -1.0\n",
      "area 4190.0 , 3.1\n",
      "kitchen_area 147.0 , 0.06\n",
      "year 2021.0 , 2018.0\n",
      "price 19.15391 , 0.5\n"
     ]
    }
   ],
   "source": [
    "for col in x_train_num.columns:\n",
    "    print(col, x_train_num[col].max(),',',  x_train_num[col].min())"
   ]
  },
  {
   "cell_type": "markdown",
   "id": "0790f023",
   "metadata": {},
   "source": [
    "* level, levels, year, price had no outliers according to russian real estate statistics\n",
    "* only area and rooms and kitchen_area has wrong values"
   ]
  },
  {
   "cell_type": "markdown",
   "id": "93653d70",
   "metadata": {},
   "source": [
    "###### Area, rooms, kitchen_area"
   ]
  },
  {
   "cell_type": "code",
   "execution_count": 44,
   "id": "8ad93f64",
   "metadata": {},
   "outputs": [],
   "source": [
    "## dealing with area less than 69\n",
    "under_69m = x_train_num[(x_train_num['area'] <= 69) & (x_train_num['rooms'] > 2)].index\n",
    "for index in under_69m:\n",
    "    fs.substitute(x_train_num, 'rooms', index, np.random.randint(1,3))\n",
    "    fs.substitute(x_train_num, 'area', index, np.random.randint(45,70))\n",
    "    fs.substitute(x_train_num, 'kitchen_area', index, np.random.randint(7,13))"
   ]
  },
  {
   "cell_type": "code",
   "execution_count": 45,
   "id": "e9447911",
   "metadata": {},
   "outputs": [],
   "source": [
    "## dealing with area from 70 to 90\n",
    "above_70m = x_train_num[((x_train_num['area'] >= 70)&(x_train_num['area'] <= 90)) & (x_train_num['rooms'] > 3)].index\n",
    "for index in above_70m:\n",
    "    fs.substitute(x_train_num, 'rooms', index, np.random.randint(2,4))\n",
    "    fs.substitute(x_train_num, 'kitchen_area', index, np.random.randint(8,17))"
   ]
  },
  {
   "cell_type": "code",
   "execution_count": 46,
   "id": "3be642ad",
   "metadata": {},
   "outputs": [],
   "source": [
    "## dealing with area from 100 to 150\n",
    "above_100m = x_train_num[((x_train_num['area'] >= 100)&(x_train_num['area'] <= 150)) & (x_train_num['rooms'] > 5)].index\n",
    "for index in above_100m:\n",
    "    fs.substitute(x_train_num, 'rooms', index, np.random.randint(3,5))\n",
    "    fs.substitute(x_train_num, 'kitchen_area', index, np.random.randint(13,22))"
   ]
  },
  {
   "cell_type": "code",
   "execution_count": 47,
   "id": "21dfeb6a",
   "metadata": {},
   "outputs": [],
   "source": [
    "## dealing with area from 151 to 300\n",
    "above_150 = x_train_num[((x_train_num['area'] > 150)&(x_train_num['area'] <= 300)) & (x_train_num['rooms'] > 7)].index\n",
    "for index in above_150:\n",
    "    fs.substitute(x_train_num, 'rooms', index, np.random.randint(4,7))\n",
    "    fs.substitute(x_train_num, 'kitchen_area', index, np.random.randint(15,25))"
   ]
  },
  {
   "cell_type": "code",
   "execution_count": 48,
   "id": "4eedc3ac",
   "metadata": {},
   "outputs": [],
   "source": [
    "# apartments greater than 300 square meters\n",
    "extra = x_train_num[(x_train_num['area'] > 300)].index\n",
    "for index in extra:\n",
    "    fs.substitute(x_train_num, 'rooms', index, np.random.randint(7,10))\n",
    "    fs.substitute(x_train_num, 'area', index, np.random.randint(301,501))\n",
    "    fs.substitute(x_train_num, 'kitchen_area', index, np.random.randint(25,35))"
   ]
  },
  {
   "cell_type": "code",
   "execution_count": 49,
   "id": "88c584cc",
   "metadata": {},
   "outputs": [
    {
     "name": "stdout",
     "output_type": "stream",
     "text": [
      "level 35.0 , 1.0\n",
      "levels 39.0 , 1.0\n",
      "rooms 9.0 , -1.0\n",
      "area 484.0 , 3.1\n",
      "kitchen_area 78.0 , 0.06\n",
      "year 2021.0 , 2018.0\n",
      "price 19.15391 , 0.5\n"
     ]
    }
   ],
   "source": [
    "for col in x_train_num.columns:\n",
    "    print(col, x_train_num[col].max(),',',  x_train_num[col].min())"
   ]
  },
  {
   "cell_type": "code",
   "execution_count": 50,
   "id": "124fc4c0",
   "metadata": {},
   "outputs": [],
   "source": [
    "#area less than 45 meter\n",
    "area_less45 = x_train_num[x_train_num['area'] <45].index\n",
    "for index in area_less45:\n",
    "    fs.substitute(x_train_num, 'area', index, np.random.randint(45,70))\n",
    "    fs.substitute(x_train_num, 'kitchen_area', index, np.random.randint(7,13))"
   ]
  },
  {
   "cell_type": "code",
   "execution_count": 51,
   "id": "bba738fd",
   "metadata": {},
   "outputs": [],
   "source": [
    "#kitchen area greater than 35 or less than 7 meters\n",
    "kitchen_greater35 = x_train_num[(x_train_num['kitchen_area'] >35) | (x_train_num['kitchen_area'] < 7)].index\n",
    "for index in kitchen_greater35:\n",
    "    fs.substitute(x_train_num, 'kitchen_area', index, np.random.randint(10,35))"
   ]
  },
  {
   "cell_type": "code",
   "execution_count": 52,
   "id": "d78f9b31",
   "metadata": {},
   "outputs": [
    {
     "name": "stdout",
     "output_type": "stream",
     "text": [
      "level 35.0 , 1.0\n",
      "levels 39.0 , 1.0\n",
      "rooms 9.0 , -1.0\n",
      "area 484.0 , 45.0\n",
      "kitchen_area 35.0 , 7.0\n",
      "year 2021.0 , 2018.0\n",
      "price 19.15391 , 0.5\n"
     ]
    }
   ],
   "source": [
    "for col in x_train_num.columns:\n",
    "    print(col, x_train_num[col].max(),',',  x_train_num[col].min())"
   ]
  },
  {
   "cell_type": "markdown",
   "id": "23420bc5",
   "metadata": {},
   "source": [
    "#### conclusion\n",
    "* now we handeled the area and rooms and kitchen_area colums and there is no outliers according to each of them\n",
    "* rooms with -1 value it means that this apartment is studio"
   ]
  },
  {
   "cell_type": "code",
   "execution_count": 53,
   "id": "c7225e50",
   "metadata": {},
   "outputs": [
    {
     "data": {
      "image/png": "[encoded data removed]",
      "text/plain": [
       "<Figure size 1296x576 with 4 Axes>"
      ]
     },
     "metadata": {},
     "output_type": "display_data"
    }
   ],
   "source": [
    "fig,axes = plt.subplots(2,2)\n",
    "sns.kdeplot(data=x_train_num, x=\"rooms\",ax=axes[0,0])\n",
    "sns.kdeplot(data=x_train_num, x=\"area\",ax=axes[0,1])\n",
    "sns.kdeplot(data=x_train_num, x=\"kitchen_area\",ax=axes[1,0])\n",
    "fig.tight_layout()"
   ]
  },
  {
   "cell_type": "markdown",
   "id": "4a9f44d3",
   "metadata": {},
   "source": [
    "### x_test_categorical encoding"
   ]
  },
  {
   "cell_type": "code",
   "execution_count": 54,
   "id": "a99628d1",
   "metadata": {},
   "outputs": [],
   "source": [
    "# split data into categorical and numerical\n",
    "x_test_cate = x_test.select_dtypes(exclude='number')\n",
    "x_test_num = x_test.select_dtypes(include='number')"
   ]
  },
  {
   "cell_type": "code",
   "execution_count": 55,
   "id": "bae188a5",
   "metadata": {},
   "outputs": [
    {
     "data": {
      "text/html": [
       "<div>\n",
       "<style scoped>\n",
       "    .dataframe tbody tr th:only-of-type {\n",
       "        vertical-align: middle;\n",
       "    }\n",
       "\n",
       "    .dataframe tbody tr th {\n",
       "        vertical-align: top;\n",
       "    }\n",
       "\n",
       "    .dataframe thead th {\n",
       "        text-align: right;\n",
       "    }\n",
       "</style>\n",
       "<table border=\"1\" class=\"dataframe\">\n",
       "  <thead>\n",
       "    <tr style=\"text-align: right;\">\n",
       "      <th></th>\n",
       "      <th>building_type</th>\n",
       "      <th>object_type</th>\n",
       "      <th>City</th>\n",
       "    </tr>\n",
       "  </thead>\n",
       "  <tbody>\n",
       "    <tr>\n",
       "      <th>0</th>\n",
       "      <td>Monolithic</td>\n",
       "      <td>New Building</td>\n",
       "      <td>St. Petersburg</td>\n",
       "    </tr>\n",
       "    <tr>\n",
       "      <th>1</th>\n",
       "      <td>Panel</td>\n",
       "      <td>Secondary Real Estate</td>\n",
       "      <td>city district of Samara</td>\n",
       "    </tr>\n",
       "    <tr>\n",
       "      <th>2</th>\n",
       "      <td>Brick</td>\n",
       "      <td>New Building</td>\n",
       "      <td>city district of Novosibirsk</td>\n",
       "    </tr>\n",
       "  </tbody>\n",
       "</table>\n",
       "</div>"
      ],
      "text/plain": [
       "  building_type            object_type                          City\n",
       "0    Monolithic           New Building                St. Petersburg\n",
       "1         Panel  Secondary Real Estate       city district of Samara\n",
       "2         Brick           New Building  city district of Novosibirsk"
      ]
     },
     "execution_count": 55,
     "metadata": {},
     "output_type": "execute_result"
    }
   ],
   "source": [
    "x_test_cate.head(3)"
   ]
  },
  {
   "cell_type": "code",
   "execution_count": 56,
   "id": "ad46c6ab",
   "metadata": {},
   "outputs": [],
   "source": [
    "## build_le stands for building_type label encoder in case we want to inverse transform we can use it\n",
    "x_test_cate['building_type'], build_test_le = fs.labelE(x_test_cate, 'building_type')"
   ]
  },
  {
   "cell_type": "code",
   "execution_count": 57,
   "id": "9ac94194",
   "metadata": {},
   "outputs": [],
   "source": [
    "## object_le stands for object_type encoder in case we want to inverse transform we can use it\n",
    "x_test_cate, object_test_E = fs.OneHotE(x_test_cate, 'object_type')"
   ]
  },
  {
   "cell_type": "code",
   "execution_count": 58,
   "id": "f8b9b68d",
   "metadata": {},
   "outputs": [
    {
     "data": {
      "text/html": [
       "<div>\n",
       "<style scoped>\n",
       "    .dataframe tbody tr th:only-of-type {\n",
       "        vertical-align: middle;\n",
       "    }\n",
       "\n",
       "    .dataframe tbody tr th {\n",
       "        vertical-align: top;\n",
       "    }\n",
       "\n",
       "    .dataframe thead th {\n",
       "        text-align: right;\n",
       "    }\n",
       "</style>\n",
       "<table border=\"1\" class=\"dataframe\">\n",
       "  <thead>\n",
       "    <tr style=\"text-align: right;\">\n",
       "      <th></th>\n",
       "      <th>building_type</th>\n",
       "      <th>City</th>\n",
       "      <th>object_type_Secondary Real Estate</th>\n",
       "    </tr>\n",
       "  </thead>\n",
       "  <tbody>\n",
       "    <tr>\n",
       "      <th>0</th>\n",
       "      <td>2</td>\n",
       "      <td>St. Petersburg</td>\n",
       "      <td>0.0</td>\n",
       "    </tr>\n",
       "    <tr>\n",
       "      <th>1</th>\n",
       "      <td>4</td>\n",
       "      <td>city district of Samara</td>\n",
       "      <td>1.0</td>\n",
       "    </tr>\n",
       "    <tr>\n",
       "      <th>2</th>\n",
       "      <td>1</td>\n",
       "      <td>city district of Novosibirsk</td>\n",
       "      <td>0.0</td>\n",
       "    </tr>\n",
       "  </tbody>\n",
       "</table>\n",
       "</div>"
      ],
      "text/plain": [
       "   building_type                          City  \\\n",
       "0              2                St. Petersburg   \n",
       "1              4       city district of Samara   \n",
       "2              1  city district of Novosibirsk   \n",
       "\n",
       "   object_type_Secondary Real Estate  \n",
       "0                                0.0  \n",
       "1                                1.0  \n",
       "2                                0.0  "
      ]
     },
     "execution_count": 58,
     "metadata": {},
     "output_type": "execute_result"
    }
   ],
   "source": [
    "x_test_cate.head(3)"
   ]
  },
  {
   "cell_type": "code",
   "execution_count": 59,
   "id": "a3d16bf5",
   "metadata": {},
   "outputs": [
    {
     "data": {
      "text/plain": [
       "185"
      ]
     },
     "execution_count": 59,
     "metadata": {},
     "output_type": "execute_result"
    }
   ],
   "source": [
    "s = x_test_cate.City.unique().tolist()\n",
    "len(s)"
   ]
  },
  {
   "cell_type": "code",
   "execution_count": 60,
   "id": "22a768d3",
   "metadata": {},
   "outputs": [],
   "source": [
    "x_test_cate, city_test_E = fs.BinaryE(x_test_cate, 'City')"
   ]
  },
  {
   "cell_type": "code",
   "execution_count": 61,
   "id": "228c5bd2",
   "metadata": {},
   "outputs": [
    {
     "data": {
      "text/plain": [
       "185"
      ]
     },
     "execution_count": 61,
     "metadata": {},
     "output_type": "execute_result"
    }
   ],
   "source": [
    "# checking the binray encoder inverse result\n",
    "len(city_test_E.inverse_transform(x_test_cate.iloc[:,2:]).City.unique()) # same result"
   ]
  },
  {
   "cell_type": "markdown",
   "id": "d8393f46",
   "metadata": {},
   "source": [
    "### x_test_numerical data handling"
   ]
  },
  {
   "cell_type": "code",
   "execution_count": 62,
   "id": "211ac081",
   "metadata": {},
   "outputs": [
    {
     "data": {
      "text/html": [
       "<div>\n",
       "<style scoped>\n",
       "    .dataframe tbody tr th:only-of-type {\n",
       "        vertical-align: middle;\n",
       "    }\n",
       "\n",
       "    .dataframe tbody tr th {\n",
       "        vertical-align: top;\n",
       "    }\n",
       "\n",
       "    .dataframe thead th {\n",
       "        text-align: right;\n",
       "    }\n",
       "</style>\n",
       "<table border=\"1\" class=\"dataframe\">\n",
       "  <thead>\n",
       "    <tr style=\"text-align: right;\">\n",
       "      <th></th>\n",
       "      <th>level</th>\n",
       "      <th>levels</th>\n",
       "      <th>rooms</th>\n",
       "      <th>area</th>\n",
       "      <th>kitchen_area</th>\n",
       "      <th>year</th>\n",
       "      <th>price</th>\n",
       "    </tr>\n",
       "  </thead>\n",
       "  <tbody>\n",
       "    <tr>\n",
       "      <th>0</th>\n",
       "      <td>7.0</td>\n",
       "      <td>28.0</td>\n",
       "      <td>2.0</td>\n",
       "      <td>57.30</td>\n",
       "      <td>12.70</td>\n",
       "      <td>2020.0</td>\n",
       "      <td>9.150810</td>\n",
       "    </tr>\n",
       "    <tr>\n",
       "      <th>1</th>\n",
       "      <td>2.0</td>\n",
       "      <td>17.0</td>\n",
       "      <td>1.0</td>\n",
       "      <td>48.39</td>\n",
       "      <td>11.95</td>\n",
       "      <td>2020.0</td>\n",
       "      <td>2.379495</td>\n",
       "    </tr>\n",
       "  </tbody>\n",
       "</table>\n",
       "</div>"
      ],
      "text/plain": [
       "   level  levels  rooms   area  kitchen_area    year     price\n",
       "0    7.0    28.0    2.0  57.30         12.70  2020.0  9.150810\n",
       "1    2.0    17.0    1.0  48.39         11.95  2020.0  2.379495"
      ]
     },
     "execution_count": 62,
     "metadata": {},
     "output_type": "execute_result"
    }
   ],
   "source": [
    "x_test_num.head(2)"
   ]
  },
  {
   "cell_type": "code",
   "execution_count": 63,
   "id": "cce7bd45",
   "metadata": {},
   "outputs": [
    {
     "data": {
      "image/png": "[encoded data removed]",
      "text/plain": [
       "<Figure size 1296x576 with 6 Axes>"
      ]
     },
     "metadata": {},
     "output_type": "display_data"
    }
   ],
   "source": [
    "fig,axes = plt.subplots(3,2)\n",
    "sns.boxplot(data=x_test_num, x=\"level\",ax=axes[0,0])\n",
    "sns.boxplot(data=x_test_num, x=\"levels\",ax=axes[0,1])\n",
    "sns.boxplot(data=x_test_num, x=\"rooms\",ax=axes[1,0])\n",
    "sns.boxplot(data=x_test_num, x=\"area\",ax=axes[1,1])\n",
    "sns.boxplot(data=x_test_num, x=\"kitchen_area\",ax=axes[2,0])\n",
    "sns.boxplot(data=x_test_num, x=\"year\",ax=axes[2,1])\n",
    "fig.tight_layout()"
   ]
  },
  {
   "cell_type": "code",
   "execution_count": 64,
   "id": "01b0ea17",
   "metadata": {},
   "outputs": [
    {
     "name": "stdout",
     "output_type": "stream",
     "text": [
      "level 32.0 , 1.0\n",
      "levels 37.0 , 1.0\n",
      "rooms 6.0 , -1.0\n",
      "area 450.0 , 3.4\n",
      "kitchen_area 93.0 , 0.06\n",
      "year 2021.0 , 2018.0\n",
      "price 19.019 , 0.5\n"
     ]
    }
   ],
   "source": [
    "for col in x_test_num.columns:\n",
    "    print(col, x_test_num[col].max(),',',  x_test_num[col].min())"
   ]
  },
  {
   "cell_type": "code",
   "execution_count": 65,
   "id": "45a2a3b5",
   "metadata": {},
   "outputs": [],
   "source": [
    "## dealing with area less than 69\n",
    "under_69m = x_test_num[(x_test_num['area'] <= 69) & (x_test_num['rooms'] > 2)].index\n",
    "for index in under_69m:\n",
    "    fs.substitute(x_test_num, 'rooms', index, np.random.randint(1,3))\n",
    "    fs.substitute(x_test_num, 'area', index, np.random.randint(45,70))\n",
    "    fs.substitute(x_test_num, 'kitchen_area', index, np.random.randint(7,13))"
   ]
  },
  {
   "cell_type": "code",
   "execution_count": 66,
   "id": "90dbaf3c",
   "metadata": {},
   "outputs": [],
   "source": [
    "## dealing with area from 70 to 90\n",
    "above_70m = x_test_num[((x_test_num['area'] >= 70)&(x_test_num['area'] <= 90)) & (x_test_num['rooms'] > 3)].index\n",
    "for index in above_70m:\n",
    "    fs.substitute(x_test_num, 'rooms', index, np.random.randint(2,4))\n",
    "    fs.substitute(x_test_num, 'kitchen_area', index, np.random.randint(8,17))"
   ]
  },
  {
   "cell_type": "code",
   "execution_count": 67,
   "id": "392c79eb",
   "metadata": {},
   "outputs": [],
   "source": [
    "## dealing with area from 100 to 150\n",
    "above_100m = x_test_num[((x_test_num['area'] >= 100)&(x_test_num['area'] <= 150)) & (x_test_num['rooms'] > 5)].index\n",
    "for index in above_100m:\n",
    "    fs.substitute(x_test_num, 'rooms', index, np.random.randint(3,5))\n",
    "    fs.substitute(x_test_num, 'kitchen_area', index, np.random.randint(13,22))"
   ]
  },
  {
   "cell_type": "code",
   "execution_count": 68,
   "id": "6329e5dc",
   "metadata": {},
   "outputs": [],
   "source": [
    "## dealing with area from 151 to 300\n",
    "above_150 = x_test_num[((x_test_num['area'] > 150)&(x_test_num['area'] <= 300)) & (x_test_num['rooms'] > 7)].index\n",
    "for index in above_150:\n",
    "    fs.substitute(x_test_num, 'rooms', index, np.random.randint(4,7))\n",
    "    fs.substitute(x_test_num, 'kitchen_area', index, np.random.randint(15,25))"
   ]
  },
  {
   "cell_type": "code",
   "execution_count": 69,
   "id": "c8691b43",
   "metadata": {},
   "outputs": [],
   "source": [
    "# apartments greater than 300 square meters\n",
    "extra = x_test_num[(x_test_num['area'] > 300)].index\n",
    "for index in extra:\n",
    "    fs.substitute(x_test_num, 'rooms', index, np.random.randint(7,10))\n",
    "    fs.substitute(x_test_num, 'area', index, np.random.randint(301,501))\n",
    "    fs.substitute(x_test_num, 'kitchen_area', index, np.random.randint(25,35))"
   ]
  },
  {
   "cell_type": "code",
   "execution_count": 70,
   "id": "a6abf0af",
   "metadata": {},
   "outputs": [
    {
     "name": "stdout",
     "output_type": "stream",
     "text": [
      "level 32.0 , 1.0\n",
      "levels 37.0 , 1.0\n",
      "rooms 9.0 , -1.0\n",
      "area 487.0 , 3.4\n",
      "kitchen_area 83.0 , 0.06\n",
      "year 2021.0 , 2018.0\n",
      "price 19.019 , 0.5\n"
     ]
    }
   ],
   "source": [
    "for col in x_test_num.columns:\n",
    "    print(col, x_test_num[col].max(),',',  x_test_num[col].min())"
   ]
  },
  {
   "cell_type": "code",
   "execution_count": 71,
   "id": "1db716a0",
   "metadata": {},
   "outputs": [],
   "source": [
    "#area less than 45 meter\n",
    "area_less45 = x_test_num[x_test_num['area'] <45].index\n",
    "for index in area_less45:\n",
    "    fs.substitute(x_test_num, 'area', index, np.random.randint(45,70))\n",
    "    fs.substitute(x_test_num, 'kitchen_area', index, np.random.randint(7,13))"
   ]
  },
  {
   "cell_type": "code",
   "execution_count": 72,
   "id": "b440eecd",
   "metadata": {},
   "outputs": [],
   "source": [
    "#kitchen area greater than 35 or less than 7 meters\n",
    "kitchen_greater35 = x_test_num[(x_test_num['kitchen_area'] >35) | (x_test_num['kitchen_area'] < 7)].index\n",
    "for index in kitchen_greater35:\n",
    "    fs.substitute(x_test_num, 'kitchen_area', index, np.random.randint(10,35))"
   ]
  },
  {
   "cell_type": "code",
   "execution_count": 73,
   "id": "2d93d7bb",
   "metadata": {},
   "outputs": [
    {
     "name": "stdout",
     "output_type": "stream",
     "text": [
      "level 32.0 , 1.0\n",
      "levels 37.0 , 1.0\n",
      "rooms 9.0 , -1.0\n",
      "area 487.0 , 45.0\n",
      "kitchen_area 35.0 , 7.0\n",
      "year 2021.0 , 2018.0\n",
      "price 19.019 , 0.5\n"
     ]
    }
   ],
   "source": [
    "for col in x_test_num.columns:\n",
    "    print(col, x_test_num[col].max(),',',  x_test_num[col].min())"
   ]
  },
  {
   "cell_type": "code",
   "execution_count": 74,
   "id": "580e4e5c",
   "metadata": {},
   "outputs": [
    {
     "data": {
      "image/png": "[encoded data removed]",
      "text/plain": [
       "<Figure size 1296x576 with 4 Axes>"
      ]
     },
     "metadata": {},
     "output_type": "display_data"
    }
   ],
   "source": [
    "fig,axes = plt.subplots(2,2)\n",
    "sns.kdeplot(data=x_test_num, x=\"rooms\",ax=axes[0,0])\n",
    "sns.kdeplot(data=x_test_num, x=\"area\",ax=axes[0,1])\n",
    "sns.kdeplot(data=x_test_num, x=\"kitchen_area\",ax=axes[1,0])\n",
    "fig.tight_layout()"
   ]
  },
  {
   "cell_type": "markdown",
   "id": "fc7f80d2",
   "metadata": {},
   "source": [
    "### concating x_train& x_test Again"
   ]
  },
  {
   "cell_type": "code",
   "execution_count": 75,
   "id": "97398651",
   "metadata": {},
   "outputs": [],
   "source": [
    "x_train = pd.concat([x_train_cate,x_train_num],axis=1)"
   ]
  },
  {
   "cell_type": "code",
   "execution_count": 76,
   "id": "11d6c4f0",
   "metadata": {},
   "outputs": [
    {
     "data": {
      "text/html": [
       "<div>\n",
       "<style scoped>\n",
       "    .dataframe tbody tr th:only-of-type {\n",
       "        vertical-align: middle;\n",
       "    }\n",
       "\n",
       "    .dataframe tbody tr th {\n",
       "        vertical-align: top;\n",
       "    }\n",
       "\n",
       "    .dataframe thead th {\n",
       "        text-align: right;\n",
       "    }\n",
       "</style>\n",
       "<table border=\"1\" class=\"dataframe\">\n",
       "  <thead>\n",
       "    <tr style=\"text-align: right;\">\n",
       "      <th></th>\n",
       "      <th>building_type</th>\n",
       "      <th>object_type_Secondary Real Estate</th>\n",
       "      <th>City_1</th>\n",
       "      <th>City_2</th>\n",
       "      <th>City_3</th>\n",
       "      <th>City_4</th>\n",
       "      <th>City_5</th>\n",
       "      <th>City_6</th>\n",
       "      <th>City_7</th>\n",
       "      <th>City_8</th>\n",
       "      <th>level</th>\n",
       "      <th>levels</th>\n",
       "      <th>rooms</th>\n",
       "      <th>area</th>\n",
       "      <th>kitchen_area</th>\n",
       "      <th>year</th>\n",
       "      <th>price</th>\n",
       "    </tr>\n",
       "  </thead>\n",
       "  <tbody>\n",
       "    <tr>\n",
       "      <th>0</th>\n",
       "      <td>2</td>\n",
       "      <td>1.0</td>\n",
       "      <td>0</td>\n",
       "      <td>0</td>\n",
       "      <td>0</td>\n",
       "      <td>0</td>\n",
       "      <td>0</td>\n",
       "      <td>0</td>\n",
       "      <td>0</td>\n",
       "      <td>1</td>\n",
       "      <td>3.0</td>\n",
       "      <td>19.0</td>\n",
       "      <td>1.0</td>\n",
       "      <td>51.0</td>\n",
       "      <td>7.0</td>\n",
       "      <td>2020.0</td>\n",
       "      <td>2.95</td>\n",
       "    </tr>\n",
       "    <tr>\n",
       "      <th>1</th>\n",
       "      <td>1</td>\n",
       "      <td>0.0</td>\n",
       "      <td>0</td>\n",
       "      <td>0</td>\n",
       "      <td>0</td>\n",
       "      <td>0</td>\n",
       "      <td>0</td>\n",
       "      <td>0</td>\n",
       "      <td>1</td>\n",
       "      <td>0</td>\n",
       "      <td>8.0</td>\n",
       "      <td>9.0</td>\n",
       "      <td>2.0</td>\n",
       "      <td>61.0</td>\n",
       "      <td>16.6</td>\n",
       "      <td>2019.0</td>\n",
       "      <td>5.50</td>\n",
       "    </tr>\n",
       "    <tr>\n",
       "      <th>2</th>\n",
       "      <td>2</td>\n",
       "      <td>1.0</td>\n",
       "      <td>0</td>\n",
       "      <td>0</td>\n",
       "      <td>0</td>\n",
       "      <td>0</td>\n",
       "      <td>0</td>\n",
       "      <td>0</td>\n",
       "      <td>1</td>\n",
       "      <td>1</td>\n",
       "      <td>5.0</td>\n",
       "      <td>12.0</td>\n",
       "      <td>2.0</td>\n",
       "      <td>60.0</td>\n",
       "      <td>15.0</td>\n",
       "      <td>2019.0</td>\n",
       "      <td>5.70</td>\n",
       "    </tr>\n",
       "  </tbody>\n",
       "</table>\n",
       "</div>"
      ],
      "text/plain": [
       "   building_type  object_type_Secondary Real Estate  City_1  City_2  City_3  \\\n",
       "0              2                                1.0       0       0       0   \n",
       "1              1                                0.0       0       0       0   \n",
       "2              2                                1.0       0       0       0   \n",
       "\n",
       "   City_4  City_5  City_6  City_7  City_8  level  levels  rooms  area  \\\n",
       "0       0       0       0       0       1    3.0    19.0    1.0  51.0   \n",
       "1       0       0       0       1       0    8.0     9.0    2.0  61.0   \n",
       "2       0       0       0       1       1    5.0    12.0    2.0  60.0   \n",
       "\n",
       "   kitchen_area    year  price  \n",
       "0           7.0  2020.0   2.95  \n",
       "1          16.6  2019.0   5.50  \n",
       "2          15.0  2019.0   5.70  "
      ]
     },
     "execution_count": 76,
     "metadata": {},
     "output_type": "execute_result"
    }
   ],
   "source": [
    "x_train.head(3)"
   ]
  },
  {
   "cell_type": "code",
   "execution_count": 77,
   "id": "9ab353dd",
   "metadata": {},
   "outputs": [],
   "source": [
    "x_test = pd.concat([x_test_cate,x_test_num],axis=1)"
   ]
  },
  {
   "cell_type": "code",
   "execution_count": 78,
   "id": "beb65246",
   "metadata": {},
   "outputs": [
    {
     "data": {
      "text/html": [
       "<div>\n",
       "<style scoped>\n",
       "    .dataframe tbody tr th:only-of-type {\n",
       "        vertical-align: middle;\n",
       "    }\n",
       "\n",
       "    .dataframe tbody tr th {\n",
       "        vertical-align: top;\n",
       "    }\n",
       "\n",
       "    .dataframe thead th {\n",
       "        text-align: right;\n",
       "    }\n",
       "</style>\n",
       "<table border=\"1\" class=\"dataframe\">\n",
       "  <thead>\n",
       "    <tr style=\"text-align: right;\">\n",
       "      <th></th>\n",
       "      <th>building_type</th>\n",
       "      <th>object_type_Secondary Real Estate</th>\n",
       "      <th>City_1</th>\n",
       "      <th>City_2</th>\n",
       "      <th>City_3</th>\n",
       "      <th>City_4</th>\n",
       "      <th>City_5</th>\n",
       "      <th>City_6</th>\n",
       "      <th>City_7</th>\n",
       "      <th>City_8</th>\n",
       "      <th>level</th>\n",
       "      <th>levels</th>\n",
       "      <th>rooms</th>\n",
       "      <th>area</th>\n",
       "      <th>kitchen_area</th>\n",
       "      <th>year</th>\n",
       "      <th>price</th>\n",
       "    </tr>\n",
       "  </thead>\n",
       "  <tbody>\n",
       "    <tr>\n",
       "      <th>0</th>\n",
       "      <td>2</td>\n",
       "      <td>0.0</td>\n",
       "      <td>0</td>\n",
       "      <td>0</td>\n",
       "      <td>0</td>\n",
       "      <td>0</td>\n",
       "      <td>0</td>\n",
       "      <td>0</td>\n",
       "      <td>0</td>\n",
       "      <td>1</td>\n",
       "      <td>7.0</td>\n",
       "      <td>28.0</td>\n",
       "      <td>2.0</td>\n",
       "      <td>57.30</td>\n",
       "      <td>12.70</td>\n",
       "      <td>2020.0</td>\n",
       "      <td>9.150810</td>\n",
       "    </tr>\n",
       "    <tr>\n",
       "      <th>1</th>\n",
       "      <td>4</td>\n",
       "      <td>1.0</td>\n",
       "      <td>0</td>\n",
       "      <td>0</td>\n",
       "      <td>0</td>\n",
       "      <td>0</td>\n",
       "      <td>0</td>\n",
       "      <td>0</td>\n",
       "      <td>1</td>\n",
       "      <td>0</td>\n",
       "      <td>2.0</td>\n",
       "      <td>17.0</td>\n",
       "      <td>1.0</td>\n",
       "      <td>48.39</td>\n",
       "      <td>11.95</td>\n",
       "      <td>2020.0</td>\n",
       "      <td>2.379495</td>\n",
       "    </tr>\n",
       "    <tr>\n",
       "      <th>2</th>\n",
       "      <td>1</td>\n",
       "      <td>0.0</td>\n",
       "      <td>0</td>\n",
       "      <td>0</td>\n",
       "      <td>0</td>\n",
       "      <td>0</td>\n",
       "      <td>0</td>\n",
       "      <td>0</td>\n",
       "      <td>1</td>\n",
       "      <td>1</td>\n",
       "      <td>1.0</td>\n",
       "      <td>16.0</td>\n",
       "      <td>3.0</td>\n",
       "      <td>72.20</td>\n",
       "      <td>11.00</td>\n",
       "      <td>2019.0</td>\n",
       "      <td>3.202000</td>\n",
       "    </tr>\n",
       "  </tbody>\n",
       "</table>\n",
       "</div>"
      ],
      "text/plain": [
       "   building_type  object_type_Secondary Real Estate  City_1  City_2  City_3  \\\n",
       "0              2                                0.0       0       0       0   \n",
       "1              4                                1.0       0       0       0   \n",
       "2              1                                0.0       0       0       0   \n",
       "\n",
       "   City_4  City_5  City_6  City_7  City_8  level  levels  rooms   area  \\\n",
       "0       0       0       0       0       1    7.0    28.0    2.0  57.30   \n",
       "1       0       0       0       1       0    2.0    17.0    1.0  48.39   \n",
       "2       0       0       0       1       1    1.0    16.0    3.0  72.20   \n",
       "\n",
       "   kitchen_area    year     price  \n",
       "0         12.70  2020.0  9.150810  \n",
       "1         11.95  2020.0  2.379495  \n",
       "2         11.00  2019.0  3.202000  "
      ]
     },
     "execution_count": 78,
     "metadata": {},
     "output_type": "execute_result"
    }
   ],
   "source": [
    "x_test.head(3)"
   ]
  },
  {
   "cell_type": "markdown",
   "id": "498d6f77",
   "metadata": {},
   "source": [
    "## spliting y_train and y_test"
   ]
  },
  {
   "cell_type": "code",
   "execution_count": 79,
   "id": "f90f8e45",
   "metadata": {},
   "outputs": [],
   "source": [
    "y_test = x_test['price']\n",
    "x_test.drop(columns=['price'],axis=1,inplace=True)"
   ]
  },
  {
   "cell_type": "code",
   "execution_count": 80,
   "id": "04b942e4",
   "metadata": {},
   "outputs": [],
   "source": [
    "y_train = x_train['price']\n",
    "x_train.drop(columns=['price'],axis=1,inplace=True)"
   ]
  },
  {
   "cell_type": "code",
   "execution_count": 84,
   "id": "911bff91",
   "metadata": {},
   "outputs": [
    {
     "data": {
      "text/html": [
       "<div>\n",
       "<style scoped>\n",
       "    .dataframe tbody tr th:only-of-type {\n",
       "        vertical-align: middle;\n",
       "    }\n",
       "\n",
       "    .dataframe tbody tr th {\n",
       "        vertical-align: top;\n",
       "    }\n",
       "\n",
       "    .dataframe thead th {\n",
       "        text-align: right;\n",
       "    }\n",
       "</style>\n",
       "<table border=\"1\" class=\"dataframe\">\n",
       "  <thead>\n",
       "    <tr style=\"text-align: right;\">\n",
       "      <th></th>\n",
       "      <th>building_type</th>\n",
       "      <th>object_type_Secondary Real Estate</th>\n",
       "      <th>City_1</th>\n",
       "      <th>City_2</th>\n",
       "      <th>City_3</th>\n",
       "      <th>City_4</th>\n",
       "      <th>City_5</th>\n",
       "      <th>City_6</th>\n",
       "      <th>City_7</th>\n",
       "      <th>City_8</th>\n",
       "      <th>level</th>\n",
       "      <th>levels</th>\n",
       "      <th>rooms</th>\n",
       "      <th>area</th>\n",
       "      <th>kitchen_area</th>\n",
       "      <th>year</th>\n",
       "    </tr>\n",
       "  </thead>\n",
       "  <tbody>\n",
       "    <tr>\n",
       "      <th>0</th>\n",
       "      <td>2</td>\n",
       "      <td>1.0</td>\n",
       "      <td>0</td>\n",
       "      <td>0</td>\n",
       "      <td>0</td>\n",
       "      <td>0</td>\n",
       "      <td>0</td>\n",
       "      <td>0</td>\n",
       "      <td>0</td>\n",
       "      <td>1</td>\n",
       "      <td>3.0</td>\n",
       "      <td>19.0</td>\n",
       "      <td>1.0</td>\n",
       "      <td>51.0</td>\n",
       "      <td>7.0</td>\n",
       "      <td>2020.0</td>\n",
       "    </tr>\n",
       "    <tr>\n",
       "      <th>1</th>\n",
       "      <td>1</td>\n",
       "      <td>0.0</td>\n",
       "      <td>0</td>\n",
       "      <td>0</td>\n",
       "      <td>0</td>\n",
       "      <td>0</td>\n",
       "      <td>0</td>\n",
       "      <td>0</td>\n",
       "      <td>1</td>\n",
       "      <td>0</td>\n",
       "      <td>8.0</td>\n",
       "      <td>9.0</td>\n",
       "      <td>2.0</td>\n",
       "      <td>61.0</td>\n",
       "      <td>16.6</td>\n",
       "      <td>2019.0</td>\n",
       "    </tr>\n",
       "    <tr>\n",
       "      <th>2</th>\n",
       "      <td>2</td>\n",
       "      <td>1.0</td>\n",
       "      <td>0</td>\n",
       "      <td>0</td>\n",
       "      <td>0</td>\n",
       "      <td>0</td>\n",
       "      <td>0</td>\n",
       "      <td>0</td>\n",
       "      <td>1</td>\n",
       "      <td>1</td>\n",
       "      <td>5.0</td>\n",
       "      <td>12.0</td>\n",
       "      <td>2.0</td>\n",
       "      <td>60.0</td>\n",
       "      <td>15.0</td>\n",
       "      <td>2019.0</td>\n",
       "    </tr>\n",
       "  </tbody>\n",
       "</table>\n",
       "</div>"
      ],
      "text/plain": [
       "   building_type  object_type_Secondary Real Estate  City_1  City_2  City_3  \\\n",
       "0              2                                1.0       0       0       0   \n",
       "1              1                                0.0       0       0       0   \n",
       "2              2                                1.0       0       0       0   \n",
       "\n",
       "   City_4  City_5  City_6  City_7  City_8  level  levels  rooms  area  \\\n",
       "0       0       0       0       0       1    3.0    19.0    1.0  51.0   \n",
       "1       0       0       0       1       0    8.0     9.0    2.0  61.0   \n",
       "2       0       0       0       1       1    5.0    12.0    2.0  60.0   \n",
       "\n",
       "   kitchen_area    year  \n",
       "0           7.0  2020.0  \n",
       "1          16.6  2019.0  \n",
       "2          15.0  2019.0  "
      ]
     },
     "execution_count": 84,
     "metadata": {},
     "output_type": "execute_result"
    }
   ],
   "source": [
    "x_train.head(3)"
   ]
  },
  {
   "cell_type": "code",
   "execution_count": 85,
   "id": "e36f4ad1",
   "metadata": {},
   "outputs": [
    {
     "data": {
      "text/html": [
       "<div>\n",
       "<style scoped>\n",
       "    .dataframe tbody tr th:only-of-type {\n",
       "        vertical-align: middle;\n",
       "    }\n",
       "\n",
       "    .dataframe tbody tr th {\n",
       "        vertical-align: top;\n",
       "    }\n",
       "\n",
       "    .dataframe thead th {\n",
       "        text-align: right;\n",
       "    }\n",
       "</style>\n",
       "<table border=\"1\" class=\"dataframe\">\n",
       "  <thead>\n",
       "    <tr style=\"text-align: right;\">\n",
       "      <th></th>\n",
       "      <th>building_type</th>\n",
       "      <th>object_type_Secondary Real Estate</th>\n",
       "      <th>City_1</th>\n",
       "      <th>City_2</th>\n",
       "      <th>City_3</th>\n",
       "      <th>City_4</th>\n",
       "      <th>City_5</th>\n",
       "      <th>City_6</th>\n",
       "      <th>City_7</th>\n",
       "      <th>City_8</th>\n",
       "      <th>level</th>\n",
       "      <th>levels</th>\n",
       "      <th>rooms</th>\n",
       "      <th>area</th>\n",
       "      <th>kitchen_area</th>\n",
       "      <th>year</th>\n",
       "    </tr>\n",
       "  </thead>\n",
       "  <tbody>\n",
       "    <tr>\n",
       "      <th>0</th>\n",
       "      <td>2</td>\n",
       "      <td>0.0</td>\n",
       "      <td>0</td>\n",
       "      <td>0</td>\n",
       "      <td>0</td>\n",
       "      <td>0</td>\n",
       "      <td>0</td>\n",
       "      <td>0</td>\n",
       "      <td>0</td>\n",
       "      <td>1</td>\n",
       "      <td>7.0</td>\n",
       "      <td>28.0</td>\n",
       "      <td>2.0</td>\n",
       "      <td>57.30</td>\n",
       "      <td>12.70</td>\n",
       "      <td>2020.0</td>\n",
       "    </tr>\n",
       "    <tr>\n",
       "      <th>1</th>\n",
       "      <td>4</td>\n",
       "      <td>1.0</td>\n",
       "      <td>0</td>\n",
       "      <td>0</td>\n",
       "      <td>0</td>\n",
       "      <td>0</td>\n",
       "      <td>0</td>\n",
       "      <td>0</td>\n",
       "      <td>1</td>\n",
       "      <td>0</td>\n",
       "      <td>2.0</td>\n",
       "      <td>17.0</td>\n",
       "      <td>1.0</td>\n",
       "      <td>48.39</td>\n",
       "      <td>11.95</td>\n",
       "      <td>2020.0</td>\n",
       "    </tr>\n",
       "    <tr>\n",
       "      <th>2</th>\n",
       "      <td>1</td>\n",
       "      <td>0.0</td>\n",
       "      <td>0</td>\n",
       "      <td>0</td>\n",
       "      <td>0</td>\n",
       "      <td>0</td>\n",
       "      <td>0</td>\n",
       "      <td>0</td>\n",
       "      <td>1</td>\n",
       "      <td>1</td>\n",
       "      <td>1.0</td>\n",
       "      <td>16.0</td>\n",
       "      <td>3.0</td>\n",
       "      <td>72.20</td>\n",
       "      <td>11.00</td>\n",
       "      <td>2019.0</td>\n",
       "    </tr>\n",
       "  </tbody>\n",
       "</table>\n",
       "</div>"
      ],
      "text/plain": [
       "   building_type  object_type_Secondary Real Estate  City_1  City_2  City_3  \\\n",
       "0              2                                0.0       0       0       0   \n",
       "1              4                                1.0       0       0       0   \n",
       "2              1                                0.0       0       0       0   \n",
       "\n",
       "   City_4  City_5  City_6  City_7  City_8  level  levels  rooms   area  \\\n",
       "0       0       0       0       0       1    7.0    28.0    2.0  57.30   \n",
       "1       0       0       0       1       0    2.0    17.0    1.0  48.39   \n",
       "2       0       0       0       1       1    1.0    16.0    3.0  72.20   \n",
       "\n",
       "   kitchen_area    year  \n",
       "0         12.70  2020.0  \n",
       "1         11.95  2020.0  \n",
       "2         11.00  2019.0  "
      ]
     },
     "execution_count": 85,
     "metadata": {},
     "output_type": "execute_result"
    }
   ],
   "source": [
    "x_test.head(3)"
   ]
  },
  {
   "cell_type": "code",
   "execution_count": 87,
   "id": "249fd3fd",
   "metadata": {},
   "outputs": [
    {
     "data": {
      "text/plain": [
       "0    2.95\n",
       "1    5.50\n",
       "2    5.70\n",
       "3    2.60\n",
       "4    2.40\n",
       "5    6.75\n",
       "6    1.80\n",
       "Name: price, dtype: float64"
      ]
     },
     "execution_count": 87,
     "metadata": {},
     "output_type": "execute_result"
    }
   ],
   "source": [
    "y_train.head(7)"
   ]
  },
  {
   "cell_type": "code",
   "execution_count": 88,
   "id": "662053fb",
   "metadata": {},
   "outputs": [
    {
     "data": {
      "text/plain": [
       "0    9.150810\n",
       "1    2.379495\n",
       "2    3.202000\n",
       "3    1.000000\n",
       "4    1.135680\n",
       "5    4.370000\n",
       "6    3.000000\n",
       "Name: price, dtype: float64"
      ]
     },
     "execution_count": 88,
     "metadata": {},
     "output_type": "execute_result"
    }
   ],
   "source": [
    "y_test.head(7)"
   ]
  },
  {
   "cell_type": "markdown",
   "id": "84e09299",
   "metadata": {},
   "source": [
    "## feature scaling"
   ]
  },
  {
   "cell_type": "code",
   "execution_count": 90,
   "id": "b8585f30",
   "metadata": {},
   "outputs": [
    {
     "name": "stdout",
     "output_type": "stream",
     "text": [
      "building_type 5 , 0\n",
      "object_type_Secondary Real Estate 1.0 , 0.0\n",
      "City_1 1 , 0\n",
      "City_2 1 , 0\n",
      "City_3 1 , 0\n",
      "City_4 1 , 0\n",
      "City_5 1 , 0\n",
      "City_6 1 , 0\n",
      "City_7 1 , 0\n",
      "City_8 1 , 0\n",
      "level 35.0 , 1.0\n",
      "levels 39.0 , 1.0\n",
      "rooms 9.0 , -1.0\n",
      "area 484.0 , 45.0\n",
      "kitchen_area 35.0 , 7.0\n",
      "year 2021.0 , 2018.0\n"
     ]
    }
   ],
   "source": [
    "for col in x_train.columns:\n",
    "    print(col, x_train[col].max(),',',  x_train[col].min())"
   ]
  },
  {
   "cell_type": "markdown",
   "id": "e38e9661",
   "metadata": {},
   "source": [
    "* Data Ranges doesn't ne"
   ]
  }
 ],
 "metadata": {
  "kernelspec": {
   "display_name": "Python 3 (ipykernel)",
   "language": "python",
   "name": "python3"
  },
  "language_info": {
   "codemirror_mode": {
    "name": "ipython",
    "version": 3
   },
   "file_extension": ".py",
   "mimetype": "text/x-python",
   "name": "python",
   "nbconvert_exporter": "python",
   "pygments_lexer": "ipython3",
   "version": "3.9.12"
  }
 },
 "nbformat": 4,
 "nbformat_minor": 5
}
