{
 "cells": [
  {
   "cell_type": "code",
   "execution_count": 49,
   "id": "843fa114",
   "metadata": {},
   "outputs": [],
   "source": [
    "import pandas as pd\n",
    "import numpy as np\n",
    "from translate import Translator"
   ]
  },
  {
   "cell_type": "code",
   "execution_count": 2,
   "id": "f4072f87",
   "metadata": {},
   "outputs": [],
   "source": [
    "df1, df2, df3, df4 = pd.read_csv('city1.csv'), pd.read_csv('city2.csv'), pd.read_csv('city3.csv'), pd.read_csv('city4.csv')"
   ]
  },
  {
   "cell_type": "code",
   "execution_count": 8,
   "id": "330753f5",
   "metadata": {},
   "outputs": [],
   "source": [
    "df5, df6 = pd.read_csv('city5.csv'), pd.read_csv('city6.csv')"
   ]
  },
  {
   "cell_type": "code",
   "execution_count": 19,
   "id": "9da990e6",
   "metadata": {},
   "outputs": [],
   "source": [
    "df = pd.concat([df1,df2,df3,df4,df5,df6])"
   ]
  },
  {
   "cell_type": "code",
   "execution_count": 41,
   "id": "41da5a8c",
   "metadata": {},
   "outputs": [],
   "source": [
    "x = df.City.unique()"
   ]
  },
  {
   "cell_type": "code",
   "execution_count": 32,
   "id": "3be7a8e0",
   "metadata": {},
   "outputs": [],
   "source": [
    "df.reset_index(inplace=True)"
   ]
  },
  {
   "cell_type": "code",
   "execution_count": 35,
   "id": "4c7550ea",
   "metadata": {},
   "outputs": [],
   "source": [
    "df.drop(columns=['level_0','index'],inplace=True)"
   ]
  },
  {
   "cell_type": "code",
   "execution_count": 43,
   "id": "e4ee8f24",
   "metadata": {},
   "outputs": [],
   "source": [
    "unique = []\n",
    "for item in x:\n",
    "    unique.append(item)"
   ]
  },
  {
   "cell_type": "code",
   "execution_count": 47,
   "id": "d1553725",
   "metadata": {},
   "outputs": [],
   "source": [
    "unique.remove(np.nan)"
   ]
  },
  {
   "cell_type": "code",
   "execution_count": 48,
   "id": "8e30362b",
   "metadata": {},
   "outputs": [
    {
     "data": {
      "text/plain": [
       "['Санкт-Петербург',\n",
       " 'Ставрополь',\n",
       " 'Колпино',\n",
       " 'Нижний Новгород',\n",
       " 'Электросталь',\n",
       " 'Чита',\n",
       " 'Москва',\n",
       " 'Ульяновск',\n",
       " 'Екатеринбург',\n",
       " 'Старый Оскол',\n",
       " 'городской округ Новосибирск',\n",
       " 'Чебоксары',\n",
       " 'Новосибирск',\n",
       " 'Каспийск',\n",
       " 'Ростов-на-Дону',\n",
       " 'Краснодар',\n",
       " 'Владикавказ',\n",
       " 'Балашиха',\n",
       " 'Сергиев Посад',\n",
       " 'Уфа',\n",
       " 'Сочи',\n",
       " 'Челябинск',\n",
       " 'Ярославль',\n",
       " 'Саранск',\n",
       " 'Тюмень',\n",
       " 'Калининград',\n",
       " 'Тамбов',\n",
       " 'Дзержинск',\n",
       " 'Новочебоксарск',\n",
       " 'Люберцы',\n",
       " 'городской округ Тольятти',\n",
       " 'Сыктывкар',\n",
       " 'городской округ Великий Новгород',\n",
       " 'Казань',\n",
       " 'городской округ Казань',\n",
       " 'Иваново',\n",
       " 'Бердск',\n",
       " 'Магнитогорск',\n",
       " 'Белгород',\n",
       " 'Мытищи',\n",
       " 'Химки',\n",
       " 'Ногинск',\n",
       " 'Красногорск',\n",
       " 'Раменское',\n",
       " 'городской округ Ижевск',\n",
       " 'Каменск-Уральский',\n",
       " 'Рыбинск',\n",
       " 'Красноярск',\n",
       " 'Королёв',\n",
       " 'Махачкала',\n",
       " 'Рубцовск',\n",
       " 'Новороссийск',\n",
       " 'Петрозаводск',\n",
       " 'Воронеж',\n",
       " 'Нижний Тагил',\n",
       " 'Улан-Удэ',\n",
       " 'Набережные Челны',\n",
       " 'Архангельск',\n",
       " 'городской округ Самара',\n",
       " 'Владимир',\n",
       " 'Воскресенск',\n",
       " 'Пермский городской округ',\n",
       " 'Мурманск',\n",
       " 'городской округ Йошкар-Ола',\n",
       " 'городской округ Новочебоксарск',\n",
       " 'Коломна',\n",
       " 'Барнаул',\n",
       " 'Домодедово',\n",
       " 'Подольск',\n",
       " 'Псков',\n",
       " 'Кемерово',\n",
       " 'Жуковский',\n",
       " 'Миасс',\n",
       " 'городской округ Батайск',\n",
       " 'Иркутск',\n",
       " 'Бийск',\n",
       " 'городской округ Абакан',\n",
       " 'Якутск',\n",
       " 'городской округ Тверь',\n",
       " 'Абакан',\n",
       " 'городской округ Бердск',\n",
       " 'Ковров',\n",
       " 'Самара',\n",
       " 'городской округ Новочеркасск',\n",
       " 'Долгопрудный',\n",
       " 'Глазов',\n",
       " 'городской округ Ярославль',\n",
       " 'Воткинск',\n",
       " 'Кострома',\n",
       " 'Одинцово',\n",
       " 'Пушкин',\n",
       " 'Батайск',\n",
       " 'городской округ Сызрань',\n",
       " 'Щёлково',\n",
       " 'Пермь',\n",
       " 'городской округ Великие Луки',\n",
       " 'Таганрог',\n",
       " 'Братск',\n",
       " 'Ангарск',\n",
       " 'Томск',\n",
       " 'городской округ Набережные Челны',\n",
       " 'городской округ Курск',\n",
       " 'Армавир',\n",
       " 'Пушкино',\n",
       " 'городской округ Таганрог',\n",
       " 'Пенза',\n",
       " 'городской округ Псков',\n",
       " 'Киров',\n",
       " 'городской округ Волгоград',\n",
       " 'Нальчик',\n",
       " 'городской округ Ессентуки',\n",
       " 'городской округ Волгодонск',\n",
       " 'городской округ Саратов',\n",
       " 'Смоленск',\n",
       " 'Невинномысск',\n",
       " 'Арзамас',\n",
       " 'Кисловодск',\n",
       " 'Орехово-Зуево',\n",
       " 'Тобольск',\n",
       " 'Камышин',\n",
       " 'Норильск',\n",
       " 'Калуга',\n",
       " 'Серпухов',\n",
       " 'городское поселение Альметьевск',\n",
       " 'городской округ Шахты',\n",
       " 'Тула',\n",
       " 'Ароматненское сельское поселение',\n",
       " 'Салават',\n",
       " 'Севастополь',\n",
       " 'Хасавюрт',\n",
       " 'Первоуральск',\n",
       " 'Новокузнецк',\n",
       " 'Оренбург',\n",
       " 'Новошахтинск',\n",
       " 'Соликамск',\n",
       " 'Брянск',\n",
       " 'городской округ Сарапул',\n",
       " 'Стерлитамак',\n",
       " 'Йошкар-Ола',\n",
       " 'Черкесск',\n",
       " 'Биробиджан',\n",
       " 'Зеленоград',\n",
       " 'Нижнекамск',\n",
       " 'Златоуст',\n",
       " 'Ачинск',\n",
       " 'Волгоград',\n",
       " 'Тольятти',\n",
       " 'Шахты',\n",
       " 'городской округ Омск',\n",
       " 'Саратов',\n",
       " 'Тверь',\n",
       " 'Волжский',\n",
       " 'Благовещенск',\n",
       " 'Обнинск',\n",
       " 'Грозный',\n",
       " 'Нефтекамск',\n",
       " 'Ижевск',\n",
       " 'Новокуйбышевск',\n",
       " 'Березники',\n",
       " 'Пятигорск',\n",
       " 'Череповец',\n",
       " 'Энгельс',\n",
       " 'Рязань',\n",
       " 'Липецк',\n",
       " 'Альметьевск',\n",
       " 'Дербент',\n",
       " 'городской округ Нижневартовск',\n",
       " 'Вологда',\n",
       " 'городской округ Пенза',\n",
       " 'Астрахань',\n",
       " 'городской округ Липецк',\n",
       " 'Воркута',\n",
       " 'городской округ Сургут',\n",
       " 'городской округ Глазов',\n",
       " 'Хабаровск',\n",
       " 'городской округ Тамбов',\n",
       " 'Черкесский городской округ',\n",
       " 'городской округ Воткинск',\n",
       " 'Элиста',\n",
       " 'Великие Луки',\n",
       " 'Магадан',\n",
       " 'Волгодонск',\n",
       " 'Кызыл',\n",
       " 'Сызрань',\n",
       " 'Симферополь',\n",
       " 'Сургут',\n",
       " 'Балаково',\n",
       " 'Кирово-Чепецк',\n",
       " 'Балаклавский округ',\n",
       " 'Качинский округ',\n",
       " 'Курган',\n",
       " 'Евпатория',\n",
       " 'городской округ Орёл',\n",
       " 'Ессентуки',\n",
       " 'Димитровград',\n",
       " 'Новочеркасск',\n",
       " 'Нижневартовск',\n",
       " 'Прокопьевск',\n",
       " 'Северодвинск',\n",
       " 'городской округ Новошахтинск',\n",
       " 'Серов',\n",
       " 'Сарапул',\n",
       " 'Курск',\n",
       " 'Белорецк',\n",
       " 'Салехард',\n",
       " 'Майкоп',\n",
       " 'городской округ Кызыл',\n",
       " 'Муром',\n",
       " 'Нефтеюганск',\n",
       " 'Северск',\n",
       " 'Петропавловск-Камчатский',\n",
       " 'Керчь',\n",
       " 'Новомосковск',\n",
       " 'городской округ Ноябрьск']"
      ]
     },
     "execution_count": 48,
     "metadata": {},
     "output_type": "execute_result"
    }
   ],
   "source": [
    "unique"
   ]
  },
  {
   "cell_type": "code",
   "execution_count": 56,
   "id": "0439f9ce",
   "metadata": {},
   "outputs": [
    {
     "name": "stderr",
     "output_type": "stream",
     "text": [
      "Using Egypt server backend.\n"
     ]
    }
   ],
   "source": [
    "import translators as ts"
   ]
  },
  {
   "cell_type": "code",
   "execution_count": 58,
   "id": "1be85982",
   "metadata": {},
   "outputs": [
    {
     "data": {
      "text/plain": [
       "'Pushkin'"
      ]
     },
     "execution_count": 58,
     "metadata": {},
     "output_type": "execute_result"
    }
   ],
   "source": [
    "ts.google('Пушкин', from_language='ru', to_language='en')"
   ]
  },
  {
   "cell_type": "code",
   "execution_count": 59,
   "id": "37bf2d9f",
   "metadata": {},
   "outputs": [],
   "source": [
    "c = {i: ts.google(i, from_language='ru', to_language='en') for i in unique}"
   ]
  },
  {
   "cell_type": "code",
   "execution_count": 70,
   "id": "efa2598e",
   "metadata": {},
   "outputs": [],
   "source": [
    "df.City = df.City.map(c)"
   ]
  },
  {
   "cell_type": "code",
   "execution_count": 71,
   "id": "e398c83b",
   "metadata": {},
   "outputs": [
    {
     "data": {
      "text/html": [
       "<div>\n",
       "<style scoped>\n",
       "    .dataframe tbody tr th:only-of-type {\n",
       "        vertical-align: middle;\n",
       "    }\n",
       "\n",
       "    .dataframe tbody tr th {\n",
       "        vertical-align: top;\n",
       "    }\n",
       "\n",
       "    .dataframe thead th {\n",
       "        text-align: right;\n",
       "    }\n",
       "</style>\n",
       "<table border=\"1\" class=\"dataframe\">\n",
       "  <thead>\n",
       "    <tr style=\"text-align: right;\">\n",
       "      <th></th>\n",
       "      <th>City</th>\n",
       "    </tr>\n",
       "  </thead>\n",
       "  <tbody>\n",
       "    <tr>\n",
       "      <th>0</th>\n",
       "      <td>St. Petersburg</td>\n",
       "    </tr>\n",
       "    <tr>\n",
       "      <th>1</th>\n",
       "      <td>Stavropol</td>\n",
       "    </tr>\n",
       "    <tr>\n",
       "      <th>2</th>\n",
       "      <td>St. Petersburg</td>\n",
       "    </tr>\n",
       "    <tr>\n",
       "      <th>3</th>\n",
       "      <td>Kolpino</td>\n",
       "    </tr>\n",
       "    <tr>\n",
       "      <th>4</th>\n",
       "      <td>Nizhny Novgorod</td>\n",
       "    </tr>\n",
       "    <tr>\n",
       "      <th>...</th>\n",
       "      <td>...</td>\n",
       "    </tr>\n",
       "    <tr>\n",
       "      <th>47485</th>\n",
       "      <td>Mytishchi</td>\n",
       "    </tr>\n",
       "    <tr>\n",
       "      <th>47486</th>\n",
       "      <td>Krasnodar</td>\n",
       "    </tr>\n",
       "    <tr>\n",
       "      <th>47487</th>\n",
       "      <td>NaN</td>\n",
       "    </tr>\n",
       "    <tr>\n",
       "      <th>47488</th>\n",
       "      <td>NaN</td>\n",
       "    </tr>\n",
       "    <tr>\n",
       "      <th>47489</th>\n",
       "      <td>Yekaterinburg</td>\n",
       "    </tr>\n",
       "  </tbody>\n",
       "</table>\n",
       "<p>47490 rows × 1 columns</p>\n",
       "</div>"
      ],
      "text/plain": [
       "                  City\n",
       "0       St. Petersburg\n",
       "1            Stavropol\n",
       "2       St. Petersburg\n",
       "3              Kolpino\n",
       "4      Nizhny Novgorod\n",
       "...                ...\n",
       "47485        Mytishchi\n",
       "47486        Krasnodar\n",
       "47487              NaN\n",
       "47488              NaN\n",
       "47489    Yekaterinburg\n",
       "\n",
       "[47490 rows x 1 columns]"
      ]
     },
     "execution_count": 71,
     "metadata": {},
     "output_type": "execute_result"
    }
   ],
   "source": [
    "df"
   ]
  },
  {
   "cell_type": "code",
   "execution_count": 73,
   "id": "bb878ac9",
   "metadata": {},
   "outputs": [],
   "source": [
    "df.to_csv('finalcity.csv', index=False)"
   ]
  },
  {
   "cell_type": "code",
   "execution_count": null,
   "id": "e28cff47",
   "metadata": {},
   "outputs": [],
   "source": []
  }
 ],
 "metadata": {
  "kernelspec": {
   "display_name": "Python 3 (ipykernel)",
   "language": "python",
   "name": "python3"
  },
  "language_info": {
   "codemirror_mode": {
    "name": "ipython",
    "version": 3
   },
   "file_extension": ".py",
   "mimetype": "text/x-python",
   "name": "python",
   "nbconvert_exporter": "python",
   "pygments_lexer": "ipython3",
   "version": "3.9.12"
  }
 },
 "nbformat": 4,
 "nbformat_minor": 5
}
