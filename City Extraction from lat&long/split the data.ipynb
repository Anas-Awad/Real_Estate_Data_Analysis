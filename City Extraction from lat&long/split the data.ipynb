{
 "cells": [
  {
   "cell_type": "code",
   "execution_count": 130,
   "id": "57d7ac66",
   "metadata": {},
   "outputs": [],
   "source": [
    "import pandas as pd\n",
    "import usef_functions as uf\n",
    "from time import sleep"
   ]
  },
  {
   "cell_type": "code",
   "execution_count": 131,
   "id": "2c7d9eb7",
   "metadata": {},
   "outputs": [],
   "source": [
    "df = pd.read_csv('DatafrmaeCopy.csv')"
   ]
  },
  {
   "cell_type": "code",
   "execution_count": 134,
   "id": "5167910b",
   "metadata": {},
   "outputs": [],
   "source": [
    "new = df[(~df['geo_lat'].isnull())&(~df['geo_lon'].isnull())][['geo_lat','geo_lon']]\n",
    "new.index = pd.RangeIndex(start=1, stop=47491)"
   ]
  },
  {
   "cell_type": "code",
   "execution_count": 135,
   "id": "d312149f",
   "metadata": {},
   "outputs": [
    {
     "data": {
      "text/html": [
       "<div>\n",
       "<style scoped>\n",
       "    .dataframe tbody tr th:only-of-type {\n",
       "        vertical-align: middle;\n",
       "    }\n",
       "\n",
       "    .dataframe tbody tr th {\n",
       "        vertical-align: top;\n",
       "    }\n",
       "\n",
       "    .dataframe thead th {\n",
       "        text-align: right;\n",
       "    }\n",
       "</style>\n",
       "<table border=\"1\" class=\"dataframe\">\n",
       "  <thead>\n",
       "    <tr style=\"text-align: right;\">\n",
       "      <th></th>\n",
       "      <th>geo_lat</th>\n",
       "      <th>geo_lon</th>\n",
       "    </tr>\n",
       "  </thead>\n",
       "  <tbody>\n",
       "    <tr>\n",
       "      <th>1</th>\n",
       "      <td>59.958459</td>\n",
       "      <td>30.215529</td>\n",
       "    </tr>\n",
       "    <tr>\n",
       "      <th>2</th>\n",
       "      <td>45.072674</td>\n",
       "      <td>41.936996</td>\n",
       "    </tr>\n",
       "    <tr>\n",
       "      <th>3</th>\n",
       "      <td>59.939359</td>\n",
       "      <td>30.437068</td>\n",
       "    </tr>\n",
       "    <tr>\n",
       "      <th>4</th>\n",
       "      <td>59.740478</td>\n",
       "      <td>30.569539</td>\n",
       "    </tr>\n",
       "    <tr>\n",
       "      <th>5</th>\n",
       "      <td>56.324063</td>\n",
       "      <td>44.005391</td>\n",
       "    </tr>\n",
       "    <tr>\n",
       "      <th>...</th>\n",
       "      <td>...</td>\n",
       "      <td>...</td>\n",
       "    </tr>\n",
       "    <tr>\n",
       "      <th>47486</th>\n",
       "      <td>55.916540</td>\n",
       "      <td>37.710144</td>\n",
       "    </tr>\n",
       "    <tr>\n",
       "      <th>47487</th>\n",
       "      <td>45.061372</td>\n",
       "      <td>38.962089</td>\n",
       "    </tr>\n",
       "    <tr>\n",
       "      <th>47488</th>\n",
       "      <td>55.747042</td>\n",
       "      <td>37.863328</td>\n",
       "    </tr>\n",
       "    <tr>\n",
       "      <th>47489</th>\n",
       "      <td>49.935245</td>\n",
       "      <td>40.559080</td>\n",
       "    </tr>\n",
       "    <tr>\n",
       "      <th>47490</th>\n",
       "      <td>56.786544</td>\n",
       "      <td>60.651328</td>\n",
       "    </tr>\n",
       "  </tbody>\n",
       "</table>\n",
       "<p>47490 rows × 2 columns</p>\n",
       "</div>"
      ],
      "text/plain": [
       "         geo_lat    geo_lon\n",
       "1      59.958459  30.215529\n",
       "2      45.072674  41.936996\n",
       "3      59.939359  30.437068\n",
       "4      59.740478  30.569539\n",
       "5      56.324063  44.005391\n",
       "...          ...        ...\n",
       "47486  55.916540  37.710144\n",
       "47487  45.061372  38.962089\n",
       "47488  55.747042  37.863328\n",
       "47489  49.935245  40.559080\n",
       "47490  56.786544  60.651328\n",
       "\n",
       "[47490 rows x 2 columns]"
      ]
     },
     "execution_count": 135,
     "metadata": {},
     "output_type": "execute_result"
    }
   ],
   "source": [
    "new "
   ]
  },
  {
   "cell_type": "code",
   "execution_count": 136,
   "id": "bf0cb02a",
   "metadata": {},
   "outputs": [],
   "source": [
    "df1, df2, df3, df4, df5, df6 = new.loc[1:10000], new.loc[10001:20000], new.loc[20001:30000], new.loc[30001:40000], new.loc[40001:45000],new.loc[45001:47490]"
   ]
  },
  {
   "cell_type": "code",
   "execution_count": 152,
   "id": "34f8fbbf",
   "metadata": {},
   "outputs": [],
   "source": [
    "df1.to_csv('df1(10k).csv', index=False)"
   ]
  },
  {
   "cell_type": "code",
   "execution_count": 153,
   "id": "d820c704",
   "metadata": {},
   "outputs": [],
   "source": [
    "df2.to_csv('df2(10k).csv', index=False)"
   ]
  },
  {
   "cell_type": "code",
   "execution_count": 154,
   "id": "85cccf8f",
   "metadata": {},
   "outputs": [],
   "source": [
    "df3.to_csv('df3(10k).csv', index=False)"
   ]
  },
  {
   "cell_type": "code",
   "execution_count": 155,
   "id": "cb6008fa",
   "metadata": {},
   "outputs": [],
   "source": [
    "df4.to_csv('df4(10k).csv', index=False)"
   ]
  },
  {
   "cell_type": "code",
   "execution_count": 156,
   "id": "af82f9e9",
   "metadata": {},
   "outputs": [],
   "source": [
    "df5.to_csv('df5(5k).csv', index=False)"
   ]
  },
  {
   "cell_type": "code",
   "execution_count": 157,
   "id": "7f1a3b44",
   "metadata": {},
   "outputs": [],
   "source": [
    "df6.to_csv('df6(2490).csv', index=False)"
   ]
  },
  {
   "cell_type": "markdown",
   "id": "cf3aec54",
   "metadata": {},
   "source": [
    "## By Anas Awad"
   ]
  }
 ],
 "metadata": {
  "kernelspec": {
   "display_name": "Python 3 (ipykernel)",
   "language": "python",
   "name": "python3"
  },
  "language_info": {
   "codemirror_mode": {
    "name": "ipython",
    "version": 3
   },
   "file_extension": ".py",
   "mimetype": "text/x-python",
   "name": "python",
   "nbconvert_exporter": "python",
   "pygments_lexer": "ipython3",
   "version": "3.9.12"
  }
 },
 "nbformat": 4,
 "nbformat_minor": 5
}
